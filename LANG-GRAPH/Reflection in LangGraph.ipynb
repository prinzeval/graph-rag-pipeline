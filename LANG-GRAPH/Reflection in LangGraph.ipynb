{
 "cells": [
  {
   "cell_type": "markdown",
   "id": "134372bd-110d-49f3-ba4d-adbc328bb227",
   "metadata": {},
   "source": [
    "# Reflection"
   ]
  },
  {
   "cell_type": "markdown",
   "id": "c46e921a-7b0f-4ecc-a85b-4b2feeefd925",
   "metadata": {},
   "source": [
    "### Installl Required Libraries"
   ]
  },
  {
   "cell_type": "code",
   "execution_count": 2,
   "id": "5dc7e30a-4abc-487c-8598-def1cded2341",
   "metadata": {},
   "outputs": [
    {
     "name": "stdout",
     "output_type": "stream",
     "text": [
      "\n",
      "\u001b[1m[\u001b[0m\u001b[34;49mnotice\u001b[0m\u001b[1;39;49m]\u001b[0m\u001b[39;49m A new release of pip is available: \u001b[0m\u001b[31;49m24.2\u001b[0m\u001b[39;49m -> \u001b[0m\u001b[32;49m24.3.1\u001b[0m\n",
      "\u001b[1m[\u001b[0m\u001b[34;49mnotice\u001b[0m\u001b[1;39;49m]\u001b[0m\u001b[39;49m To update, run: \u001b[0m\u001b[32;49m/opt/anaconda3/bin/python -m pip install --upgrade pip\u001b[0m\n",
      "Note: you may need to restart the kernel to use updated packages.\n"
     ]
    }
   ],
   "source": [
    "pip install --upgrade -q openai langchain langchain-openai langchain-community langgraph"
   ]
  },
  {
   "cell_type": "markdown",
   "id": "f0887491-8a14-4fc5-8003-04444d3c3306",
   "metadata": {},
   "source": [
    "### Load environment variables"
   ]
  },
  {
   "cell_type": "code",
   "execution_count": 4,
   "id": "038ad78a-9784-4150-bcad-d535e1cc0f4b",
   "metadata": {},
   "outputs": [
    {
     "name": "stdout",
     "output_type": "stream",
     "text": [
      "API Key Loaded True\n"
     ]
    }
   ],
   "source": [
    "import os\n",
    "from dotenv import load_dotenv, find_dotenv\n",
    "load_dotenv(find_dotenv(), override=True)\n",
    "\n",
    "os.environ.get('OPENAI_API_KEY')\n",
    "\n",
    "print(\"API Key Loaded\", os.environ.get('OPENAI_API_KEY') is not None)"
   ]
  },
  {
   "cell_type": "markdown",
   "id": "ba7b72bc-5612-4e48-b2e1-3e94ae6fd60a",
   "metadata": {},
   "source": [
    "### Generate a Tweet"
   ]
  },
  {
   "cell_type": "code",
   "execution_count": 6,
   "id": "15c35913-4d15-4f07-b248-1022cc5c03c4",
   "metadata": {},
   "outputs": [],
   "source": [
    "from langchain_core.messages import AIMessage, BaseMessage, HumanMessage\n",
    "from langchain_core.prompts import ChatPromptTemplate, MessagesPlaceholder\n",
    "from langchain_openai import ChatOpenAI"
   ]
  },
  {
   "cell_type": "code",
   "execution_count": 7,
   "id": "92911c81-d84d-400f-9cfb-0073d660c1e4",
   "metadata": {},
   "outputs": [],
   "source": [
    "generation_prompt = ChatPromptTemplate.from_messages([\n",
    "    (\n",
    "        'system',\n",
    "        '''\n",
    "        You are an expert social media strategist specialized in crafting viral tweets.\n",
    "        Your goals:\n",
    "        1. Create engaging and impactful tweets that resonate with the target audience\n",
    "        2. Use appropriate hashtags, emojis, and trending topics when relevant\n",
    "        3. Maintain brand voice while maximizing engagement potential\n",
    "        4. Keep tweets concise yet impactful within Twitter's character limit\n",
    "        5. Consider timing and current trends in the content\n",
    "\n",
    "        If provided with feedback:\n",
    "        - Analyze the feedback carefully\n",
    "        - Incorporate suggested improvements\n",
    "        - Maintain the core message while enhancing engagement\n",
    "        - Ensure each iteration improves upon the previous version\n",
    "\n",
    "        Remember: A great tweet combines clarity, creativity, and call-to-action while feeling authentic.\n",
    "        '''\n",
    "    ),\n",
    "    MessagesPlaceholder(variable_name='messages')\n",
    "])"
   ]
  },
  {
   "cell_type": "code",
   "execution_count": 8,
   "id": "aba96934-750e-49e4-88c1-978e34d82d53",
   "metadata": {},
   "outputs": [],
   "source": [
    "llm = ChatOpenAI(model_name='gpt-4o-mini', temperature=0.7)\n",
    "generation_chain = generation_prompt | llm"
   ]
  },
  {
   "cell_type": "code",
   "execution_count": 11,
   "id": "2b73c207-6e89-48d5-be1a-44e172ed1151",
   "metadata": {},
   "outputs": [
    {
     "name": "stdout",
     "output_type": "stream",
     "text": [
      "🌟✨ Ever wondered how LLMs can self-evaluate and level up their responses? 🤖🔍 Through reflection, they analyze past interactions, learn from mistakes, and enhance their performance! 🚀💡 This self-improvement cycle paves the way for smarter AI. Let's unlock the future of tech together! #AI #MachineLearning #TechInnovation #LLMs"
     ]
    }
   ],
   "source": [
    "tweet = ''\n",
    "request = HumanMessage(\n",
    "    content = '''\n",
    "    Generate a tweet about Reflection in AI - how LLMs can evaluate and improve their own responses. \n",
    "    Make it exciting and educational for tech enthusiasts and developers.\n",
    "    '''\n",
    ")\n",
    "\n",
    "for chunk in generation_chain.stream(\n",
    "    {\n",
    "        'messages':[request]\n",
    "    }\n",
    "):\n",
    "    print(chunk.content, end='')\n",
    "    tweet += chunk.content"
   ]
  },
  {
   "cell_type": "code",
   "execution_count": null,
   "id": "46d5f718-3bd7-4ac7-a18a-95eee265a7ab",
   "metadata": {},
   "outputs": [],
   "source": []
  },
  {
   "cell_type": "code",
   "execution_count": null,
   "id": "911e04c3-dcc4-44bf-b4b6-f63039047950",
   "metadata": {},
   "outputs": [],
   "source": []
  },
  {
   "cell_type": "code",
   "execution_count": null,
   "id": "00e6a885-c576-40a3-9e3f-d9c381fb4f8e",
   "metadata": {},
   "outputs": [],
   "source": []
  },
  {
   "cell_type": "markdown",
   "id": "dc8e5299-473e-4095-9393-9578f3afe3d1",
   "metadata": {},
   "source": [
    "### Reflect On the tweet and Re generate Tweet"
   ]
  },
  {
   "cell_type": "code",
   "execution_count": 18,
   "id": "9cad98fe-84ba-436d-bf5f-0302e457d766",
   "metadata": {},
   "outputs": [],
   "source": [
    "reflection_prompt = ChatPromptTemplate.from_messages([\n",
    "    (\n",
    "        'system',\n",
    "        '''\n",
    "        You are a senior social media analyst with expertise in content optimization.\n",
    "        Your role is to provide detailed analysis and actionable feedback on tweets.\n",
    "\n",
    "        Analyze the following aspects:\n",
    "        1. Engagement Potential:\n",
    "           - Hook and attention-grabbing elements\n",
    "           - Call-to-action effectiveness\n",
    "           - Viral potential\n",
    "\n",
    "        2. Content Structure:\n",
    "           - Clarity and conciseness\n",
    "           - Hashtag usage and placement\n",
    "           - Emoji effectiveness\n",
    "\n",
    "        3. Technical Elements:\n",
    "           - Character count optimization\n",
    "           - Formatting and readability\n",
    "           - Link placement (if applicable)\n",
    "\n",
    "        4. Brand Alignment:\n",
    "           - Tone and voice consistency\n",
    "           - Message clarity\n",
    "           - Target audience appeal\n",
    "\n",
    "        Provide specific, actionable recommendations for improvement in each area.\n",
    "        Your feedback should be constructive, detailed, and focused on maximizing impact.\n",
    "        '''\n",
    "    ),\n",
    "    MessagesPlaceholder(variable_name='messages')\n",
    "])"
   ]
  },
  {
   "cell_type": "code",
   "execution_count": 20,
   "id": "d96981ac-559c-4857-b9b3-7a46d41417d9",
   "metadata": {},
   "outputs": [
    {
     "name": "stdout",
     "output_type": "stream",
     "text": [
      "### Analysis of the Tweet\n",
      "\n",
      "#### 1. Engagement Potential:\n",
      "- **Hook and Attention-Grabbing Elements**: The use of \"Ever wondered how LLMs can self-evaluate?\" is a strong conversational hook that draws the audience in. However, consider starting with a bolder statement or question to ignite curiosity even more.\n",
      "- **Call-to-Action Effectiveness**: The phrase \"Let's unlock the future of tech together!\" serves as a good call to action, inviting engagement. However, it could be more direct, such as asking followers to share their thoughts or experiences.\n",
      "- **Viral Potential**: The combination of emojis and hashtags makes the tweet visually appealing, which is great for sharing. However, the content could be slightly more provocative or controversial to increase shareability.\n",
      "\n",
      "#### 2. Content Structure:\n",
      "- **Clarity and Conciseness**: The message is clear, but it could be more concise. Consider tightening the wording to enhance readability.\n",
      "- **Hashtag Usage and Placement**: The hashtags are relevant and well-placed at the end of the tweet. However, consider reducing the number of hashtags to 2-3 to prevent clutter and maintain focus.\n",
      "- **Emoji Effectiveness**: The emojis are engaging and visually break up the text, but their placement could be optimized. Using them to emphasize key phrases might be more effective.\n",
      "\n",
      "#### 3. Technical Elements:\n",
      "- **Character Count Optimization**: The current tweet is 241 characters long. Aim for around 240 characters or less to allow for retweets without cutting off parts of the message.\n",
      "- **Formatting and Readability**: Adding line breaks could improve readability, especially in a tweet that contains several ideas.\n",
      "- **Link Placement (if applicable)**: If there’s a relevant article or resource, consider adding a link to provide more in-depth information.\n",
      "\n",
      "#### 4. Brand Alignment:\n",
      "- **Tone and Voice Consistency**: The tone is enthusiastic and educational, which aligns well with a tech audience. Ensure that this tone is consistent across future tweets to build brand voice.\n",
      "- **Message Clarity**: While the message is generally clear, simplifying complex terms could help reach a broader audience, including non-experts.\n",
      "- **Target Audience Appeal**: The content is well-targeted at tech enthusiasts and developers, but including a question or prompt at the end could encourage more interaction from this audience.\n",
      "\n",
      "### Actionable Recommendations:\n",
      "1. **Revise the Hook**: Start with a stronger statement or question, such as “Could LLMs be the key to smarter AI? 🤔”\n",
      "   \n",
      "2. **Enhance the Call to Action**: Instead of “Let’s unlock the future of tech together!” consider “What do you think about LLMs learning from their past? Share your thoughts! 💬”\n",
      "\n",
      "3. **Simplify Wording**: Consider shortening phrases. For example, “Through reflection, they analyze past interactions” could be revised to “They reflect on past chats to improve!”\n",
      "\n",
      "4. **Limit Hashtags**: Use 2-3 focused hashtags, such as #AI #TechInnovation. This will help maintain focus while still reaching relevant audiences.\n",
      "\n",
      "5. **Use Line Breaks**: Consider formatting the tweet like this to improve readability:\n",
      "   ```\n",
      "   🌟✨ Could LLMs be the key to smarter AI? 🤔\n",
      "   \n",
      "   They reflect on past chats to improve! 🚀💡\n",
      "   \n",
      "   Let’s discuss: What do you think about LLMs learning from their past? 💬\n",
      "   #AI #TechInnovation\n",
      "   ```\n",
      "\n",
      "6. **Include a Link**: If applicable, add a link to your website or a related article for those interested in learning more.\n",
      "\n",
      "By implementing these recommendations, the tweet will have a stronger impact, drive higher engagement, and resonate more effectively with the target audience."
     ]
    }
   ],
   "source": [
    "reflect_chain = reflection_prompt | llm\n",
    "\n",
    "reflection = ''\n",
    "for chunk in reflect_chain.stream(\n",
    "    {\n",
    "        'messages':[\n",
    "            request, HumanMessage(content=tweet)\n",
    "        ]\n",
    "    }\n",
    "):\n",
    "    print(chunk.content, end='')\n",
    "    reflection += chunk.content"
   ]
  },
  {
   "cell_type": "code",
   "execution_count": 21,
   "id": "a3775b82-3ccb-437b-82fc-282db17123f2",
   "metadata": {},
   "outputs": [
    {
     "name": "stdout",
     "output_type": "stream",
     "text": [
      "Here’s a revised tweet that incorporates your feedback for improved engagement and clarity:\n",
      "\n",
      "---\n",
      "\n",
      "🌟✨ Could LLMs be the key to smarter AI? 🤔  \n",
      "They reflect on past chats to enhance their responses! 🚀💡  \n",
      "What do you think about LLMs learning from their past? Share your thoughts! 💬  \n",
      "#AI #TechInnovation\n",
      "\n",
      "---\n",
      "\n",
      "This version starts with a bold question, simplifies the messaging, and includes a direct call to action while maintaining a clean format. Let me know if you’d like any further adjustments!"
     ]
    }
   ],
   "source": [
    "for chunk in generation_chain.stream(\n",
    "    {\n",
    "        'messages':[\n",
    "            request, AIMessage(content=tweet), HumanMessage(content=reflection)\n",
    "        ]\n",
    "    }\n",
    "):\n",
    "    print(chunk.content, end ='')"
   ]
  },
  {
   "cell_type": "markdown",
   "id": "523711d4-f545-46cc-8194-19259ed19748",
   "metadata": {},
   "source": [
    "# Define the graph"
   ]
  },
  {
   "cell_type": "markdown",
   "id": "f56907c8-fb77-49a6-a5d3-c0421763c067",
   "metadata": {},
   "source": [
    "### Setting Up the Graph"
   ]
  },
  {
   "cell_type": "code",
   "execution_count": 36,
   "id": "baf987e8-0554-4a05-87d0-5c70e1a155fa",
   "metadata": {},
   "outputs": [],
   "source": [
    "from typing import List, Sequence\n",
    "from langgraph.graph import END, MessageGraph"
   ]
  },
  {
   "cell_type": "markdown",
   "id": "8b45ef8a-82ae-49de-a1fd-4602f6414d1c",
   "metadata": {},
   "source": [
    "### Define Our Nodes"
   ]
  },
  {
   "cell_type": "markdown",
   "id": "ac1625a0-7188-4d8d-8d00-4152e8be4dda",
   "metadata": {},
   "source": [
    "### Generation Node"
   ]
  },
  {
   "cell_type": "code",
   "execution_count": 38,
   "id": "6c9b1aef-fed6-472a-96f6-56fee0ae3a06",
   "metadata": {},
   "outputs": [],
   "source": [
    "def generation_node(state: Sequence[BaseMessage]):\n",
    "    return generation_chain.invoke({'messages': state})"
   ]
  },
  {
   "cell_type": "markdown",
   "id": "f2fa827c-c77d-4880-a31c-ea90365eee2b",
   "metadata": {},
   "source": [
    "### Reflection Node"
   ]
  },
  {
   "cell_type": "code",
   "execution_count": 40,
   "id": "1b1551fe-27b4-4229-a753-41dc4301dcef",
   "metadata": {},
   "outputs": [],
   "source": [
    "def reflection_node(messages: Sequence[BaseMessage]) -> List[BaseMessage]:\n",
    "    cls_map = {'ai': HumanMessage, 'human': AIMessage}\n",
    "    translated = [messages[0]] + [\n",
    "        cls_map[msg.type](content=msg.content) for msg in messages[1:]\n",
    "    ]\n",
    "    res = reflect_chain.invoke({'messages': translated})\n",
    "    return HumanMessage(content=res.content)"
   ]
  },
  {
   "cell_type": "markdown",
   "id": "d30ab05b-6acd-41af-b7e5-ea89721a2e31",
   "metadata": {},
   "source": [
    "### Building the graph"
   ]
  },
  {
   "cell_type": "code",
   "execution_count": 50,
   "id": "66a57430-11fe-423a-bf5e-0f254737dd51",
   "metadata": {},
   "outputs": [],
   "source": [
    "builder = MessageGraph()\n",
    "builder.add_node('generate', generation_node)\n",
    "builder.add_node('reflect', reflection_node)\n",
    "\n",
    "builder.set_entry_point('generate')\n",
    "\n",
    "MAX_ITERATIONS = 5\n",
    "def should_continue(state: List[BaseMessage]):\n",
    "    if len(state) > MAX_ITERATIONS:\n",
    "        return END\n",
    "    return 'reflect'\n",
    "\n",
    "builder.add_conditional_edges('generate', should_continue)\n",
    "builder.add_edge('reflect', 'generate')\n",
    "\n",
    "graph = builder.compile()"
   ]
  },
  {
   "cell_type": "markdown",
   "id": "4af7c0ff-09e0-4a33-b1db-b532d7826180",
   "metadata": {},
   "source": [
    "### Display the graph"
   ]
  },
  {
   "cell_type": "code",
   "execution_count": 52,
   "id": "5dc35f93-0e1b-4386-9c05-7a3e88416295",
   "metadata": {},
   "outputs": [
    {
     "data": {
      "image/jpeg": "[encoded data removed]",
      "text/plain": [
       "<IPython.core.display.Image object>"
      ]
     },
     "metadata": {},
     "output_type": "display_data"
    }
   ],
   "source": [
    "from IPython.display import Image, display\n",
    "display(Image(graph.get_graph().draw_mermaid_png()))"
   ]
  },
  {
   "cell_type": "markdown",
   "id": "2999015a-7ceb-42bc-8965-acf41410f26d",
   "metadata": {},
   "source": [
    "### Running the App"
   ]
  },
  {
   "cell_type": "code",
   "execution_count": 54,
   "id": "1195c0e5-9313-46d9-acc2-f720455157df",
   "metadata": {},
   "outputs": [
    {
     "name": "stdout",
     "output_type": "stream",
     "text": [
      "\n",
      "    Generate a tweet about Reflection in AI - how LLMs can evaluate and improve their own responses. \n",
      "    Make it exciting and educational for tech enthusiasts and developers.\n",
      "    \n",
      "\n",
      "----------------------------------------------------------------------------------------------------\n",
      "\n",
      "🤖✨ Ever wondered how LLMs reflect on their own responses? 🤔 With self-evaluation techniques, these models analyze their outputs, learn from feedback, and continuously improve! 🚀 Imagine the potential for smarter, more nuanced AI interactions! Let's push the boundaries of tech together! 💡 #AI #MachineLearning #TechInnovation #LLM #ReflectionsInAI\n",
      "\n",
      "----------------------------------------------------------------------------------------------------\n",
      "\n",
      "### Engagement Potential:\n",
      "- **Hook and Attention-Grabbing Elements**: The use of emojis at the beginning effectively draws attention. However, the opening question could be more provocative. Instead of \"Ever wondered,\" consider using something like \"What if AI could think about its own thinking?\" This poses a more intriguing scenario.\n",
      "- **Call-to-Action Effectiveness**: The phrase \"Let's push the boundaries of tech together!\" is a good call-to-action, but it could be more specific. For instance, inviting readers to share their thoughts or experiences with self-evaluating AI models could enhance engagement.\n",
      "- **Viral Potential**: To increase the likelihood of virality, consider adding a surprising or controversial statement about current limitations in AI that could be improved through self-reflection.\n",
      "\n",
      "### Content Structure:\n",
      "- **Clarity and Conciseness**: The message is mostly clear but could benefit from a more streamlined structure. For example, the explanation of self-evaluation could be condensed for impact.\n",
      "- **Hashtag Usage and Placement**: The hashtags are relevant but could be optimized. Placing the most impactful hashtag first can enhance visibility. Consider consolidating some hashtags for brevity, such as using just #AI and #LLM.\n",
      "- **Emoji Effectiveness**: Emojis are well-placed but could be reduced slightly to avoid clutter. Consider using just one or two that are most relevant to enhance clarity.\n",
      "\n",
      "### Technical Elements:\n",
      "- **Character Count Optimization**: The tweet is currently 233 characters. Aim for under 240 characters for better engagement, as it will fit into most retweet formats. Try to condense phrasing without losing meaning.\n",
      "- **Formatting and Readability**: The tweet is generally readable. However, breaking it into two sentences could improve clarity. For example, separate the explanation of self-evaluation from the potential it offers.\n",
      "- **Link Placement (if applicable)**: If there's a relevant article, blog, or resource, consider including a shortened link at the end for those wanting to dive deeper.\n",
      "\n",
      "### Brand Alignment:\n",
      "- **Tone and Voice Consistency**: The tone is enthusiastic and educational, which fits well for a tech audience. Ensure that this tone is consistent in future tweets.\n",
      "- **Message Clarity**: The core message is clear, but refining the phrasing will enhance understanding. Simplifying technical jargon can make it more accessible.\n",
      "- **Target Audience Appeal**: The tweet appeals well to tech enthusiasts and developers, but adding a specific example (like a well-known LLM) could resonate more with this audience.\n",
      "\n",
      "### Actionable Recommendations:\n",
      "1. **Revise Hook**: Change \"Ever wondered how LLMs reflect on their own responses?\" to \"What if AI could think about its own thinking? 🤯\"\n",
      "2. **Enhance Call-to-Action**: Instead of \"Let's push the boundaries of tech together!\" use \"Share your thoughts on LLMs reflecting on their outputs! 💬\"\n",
      "3. **Optimize Hashtags**: Use #AI #LLM and possibly #TechInnovation to consolidate.\n",
      "4. **Condense Content**: Consider rephrasing to something like: \"LLMs can analyze their outputs and learn from feedback to improve continuously! 🚀 Imagine the smarter AI interactions that await! 💡\"\n",
      "5. **Include a Link**: If there’s a relevant resource, add a link at the end, e.g., \"Learn more: [link]\"\n",
      "\n",
      "### Revised Tweet Example:\n",
      "🤯 What if AI could think about its own thinking? LLMs analyze their outputs & learn from feedback to improve continuously! 🚀 Imagine the smarter AI interactions that await! 💡 Share your thoughts on LLMs reflecting on their outputs! 💬 #AI #LLM #TechInnovation [link]\n",
      "\n",
      "----------------------------------------------------------------------------------------------------\n",
      "\n",
      "🤯 What if AI could think about its own thinking? LLMs can analyze their outputs & learn from feedback to continuously improve! 🚀 The future of smarter AI interactions is just around the corner! 💡 What are your thoughts on self-evaluating AI? Let’s discuss! 💬 #AI #LLM #TechInnovation [link]\n",
      "\n",
      "----------------------------------------------------------------------------------------------------\n",
      "\n",
      "### Engagement Potential:\n",
      "- **Hook and Attention-Grabbing Elements**: The revised hook, \"What if AI could think about its own thinking?\" is provocative and engaging, effectively grabbing attention. Good job!\n",
      "- **Call-to-Action Effectiveness**: The new call-to-action, “What are your thoughts on self-evaluating AI? Let’s discuss!” is inviting and encourages interaction, making it effective in boosting engagement.\n",
      "- **Viral Potential**: The tweet maintains a solid potential for sharing due to its intriguing premise and engaging language. To enhance this, consider adding a surprising statistic or a bold claim about LLMs to spark curiosity further.\n",
      "\n",
      "### Content Structure:\n",
      "- **Clarity and Conciseness**: The tweet is clear and concise, effectively conveying the message. You’ve balanced the technical aspect with an accessible tone.\n",
      "- **Hashtag Usage and Placement**: The hashtags are relevant and appropriately placed. Consider adding a fourth hashtag, such as #AIResearch, to reach a broader audience without overcrowding.\n",
      "- **Emoji Effectiveness**: The emojis are well-placed and enhance the readability of the tweet without overwhelming it.\n",
      "\n",
      "### Technical Elements:\n",
      "- **Character Count Optimization**: The tweet is currently 233 characters, which is optimal for Twitter. It’s good practice to keep it under 240 characters to maximize retweet potential.\n",
      "- **Formatting and Readability**: The formatting is simple and easy to read, maintaining a good flow. Consider using a line break for emphasis, e.g., separating the question about self-evaluating AI onto a new line for added focus.\n",
      "- **Link Placement**: If there's a relevant link, ensure it’s short and easy to click. Consider using a URL shortener to keep the tweet tidy.\n",
      "\n",
      "### Brand Alignment:\n",
      "- **Tone and Voice Consistency**: The tone is enthusiastic and aligns well with a tech-savvy audience. It reflects a forward-thinking and engaging brand persona.\n",
      "- **Message Clarity**: The message remains clear and compelling. It effectively conveys the concept of self-evaluation in AI without overly technical jargon.\n",
      "- **Target Audience Appeal**: The tweet appeals directly to tech enthusiasts and developers, encouraging them to engage in a dialogue about innovative AI practices.\n",
      "\n",
      "### Actionable Recommendations:\n",
      "1. **Consider Adding a Surprising Fact**: To increase engagement, you might add a brief statistic or claim. For example, \"Studies show that LLMs can reduce error rates by 30% through self-evaluation!\" \n",
      "2. **Add a Fourth Hashtag**: Consider adding #AIResearch to broaden the reach.\n",
      "3. **Use a Line Break for Emphasis**: This can help separate the main message from the call-to-action. For example:\n",
      "   ```\n",
      "   🤯 What if AI could think about its own thinking? \n",
      "   LLMs can analyze their outputs & learn from feedback to continuously improve! 🚀 \n",
      "   The future of smarter AI interactions is just around the corner! 💡 \n",
      "   What are your thoughts on self-evaluating AI? Let’s discuss! 💬 \n",
      "   #AI #LLM #TechInnovation [link]\n",
      "   ```\n",
      "\n",
      "### Final Revised Tweet Example:\n",
      "🤯 What if AI could think about its own thinking?  \n",
      "LLMs can analyze their outputs & learn from feedback to continuously improve! 🚀  \n",
      "The future of smarter AI interactions is just around the corner! 💡  \n",
      "What are your thoughts on self-evaluating AI? Let’s discuss! 💬  \n",
      "#AI #LLM #TechInnovation #AIResearch [link] \n",
      "\n",
      "This format maintains clarity, encourages discussion, and enhances engagement potential while aligning well with the target audience.\n",
      "\n",
      "----------------------------------------------------------------------------------------------------\n",
      "\n",
      "🤯 What if AI could think about its own thinking?  \n",
      "LLMs can analyze their outputs & learn from feedback to continuously improve! 🚀 Studies show they can reduce error rates by 30% through self-evaluation! 💡  \n",
      "The future of smarter AI interactions is just around the corner!  \n",
      "What are your thoughts on self-evaluating AI? Let’s discuss! 💬  \n",
      "#AI #LLM #TechInnovation #AIResearch [link]  \n",
      "\n",
      "This version includes a surprising statistic to spark curiosity, while the line break enhances readability and engagement!\n",
      "\n",
      "----------------------------------------------------------------------------------------------------\n",
      "\n"
     ]
    }
   ],
   "source": [
    "inputs = HumanMessage(\n",
    "    content = '''\n",
    "    Generate a tweet about Reflection in AI - how LLMs can evaluate and improve their own responses. \n",
    "    Make it exciting and educational for tech enthusiasts and developers.\n",
    "    '''\n",
    ")\n",
    "\n",
    "response = graph.invoke(inputs)\n",
    "\n",
    "for resp in response:\n",
    "    print(resp.content)\n",
    "    print('\\n' + '-' * 100 + '\\n')"
   ]
  },
  {
   "cell_type": "code",
   "execution_count": null,
   "id": "7af997be-2144-4a41-8740-32ab2b82cf45",
   "metadata": {},
   "outputs": [],
   "source": []
  },
  {
   "cell_type": "code",
   "execution_count": null,
   "id": "c72eb189-0688-48c8-b82d-8095f018b03e",
   "metadata": {},
   "outputs": [],
   "source": []
  },
  {
   "cell_type": "code",
   "execution_count": null,
   "id": "104c99e5-0c5b-45b2-bed3-dcb0628132ab",
   "metadata": {},
   "outputs": [],
   "source": []
  },
  {
   "cell_type": "code",
   "execution_count": null,
   "id": "981410b2-e172-418c-9b75-fd45287c8e82",
   "metadata": {},
   "outputs": [],
   "source": []
  },
  {
   "cell_type": "code",
   "execution_count": null,
   "id": "3ff65c27-4648-4629-b3af-936c5bc96f83",
   "metadata": {},
   "outputs": [],
   "source": []
  },
  {
   "cell_type": "code",
   "execution_count": null,
   "id": "51bd6274-abea-4ab9-a771-982bcbd37840",
   "metadata": {},
   "outputs": [],
   "source": []
  },
  {
   "cell_type": "code",
   "execution_count": null,
   "id": "aa786ba0-a6ab-4a71-8e56-6aa8b2fd001d",
   "metadata": {},
   "outputs": [],
   "source": []
  },
  {
   "cell_type": "code",
   "execution_count": null,
   "id": "7702ace5-fe80-4ba4-b23e-d1973171cab8",
   "metadata": {},
   "outputs": [],
   "source": []
  },
  {
   "cell_type": "code",
   "execution_count": null,
   "id": "a242b83a-afcf-45ce-a7f9-3b6285aca8a0",
   "metadata": {},
   "outputs": [],
   "source": []
  },
  {
   "cell_type": "code",
   "execution_count": null,
   "id": "cac376a5-a6e0-447f-a218-1df7dcd78a67",
   "metadata": {},
   "outputs": [],
   "source": []
  },
  {
   "cell_type": "code",
   "execution_count": null,
   "id": "a8f73ad6-5ac8-44ed-b34f-132c4b88ef99",
   "metadata": {},
   "outputs": [],
   "source": []
  },
  {
   "cell_type": "code",
   "execution_count": null,
   "id": "b18f5461-ae33-4da8-9d41-0eb974425caa",
   "metadata": {},
   "outputs": [],
   "source": []
  },
  {
   "cell_type": "code",
   "execution_count": null,
   "id": "04e6d09a-f60a-4727-88e8-18f7ae55e2db",
   "metadata": {},
   "outputs": [],
   "source": []
  },
  {
   "cell_type": "code",
   "execution_count": null,
   "id": "2ce98dc5-92a1-40b5-aeae-f8815ced260d",
   "metadata": {},
   "outputs": [],
   "source": []
  },
  {
   "cell_type": "code",
   "execution_count": null,
   "id": "1d3ab02f-0ff1-4f60-83ec-39a82e7bc599",
   "metadata": {},
   "outputs": [],
   "source": []
  },
  {
   "cell_type": "code",
   "execution_count": null,
   "id": "73c6c1b4-7e14-49ea-9afe-8675bf7443a4",
   "metadata": {},
   "outputs": [],
   "source": []
  },
  {
   "cell_type": "code",
   "execution_count": null,
   "id": "7c388f64-91eb-4754-a863-8d3dc3676784",
   "metadata": {},
   "outputs": [],
   "source": []
  },
  {
   "cell_type": "code",
   "execution_count": null,
   "id": "8fc72500-6a86-4559-9f63-79ec5c1b3b8b",
   "metadata": {},
   "outputs": [],
   "source": []
  }
 ],
 "metadata": {
  "kernelspec": {
   "display_name": "Python 3 (ipykernel)",
   "language": "python",
   "name": "python3"
  },
  "language_info": {
   "codemirror_mode": {
    "name": "ipython",
    "version": 3
   },
   "file_extension": ".py",
   "mimetype": "text/x-python",
   "name": "python",
   "nbconvert_exporter": "python",
   "pygments_lexer": "ipython3",
   "version": "3.11.7"
  }
 },
 "nbformat": 4,
 "nbformat_minor": 5
}
