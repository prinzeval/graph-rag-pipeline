{
 "cells": [
  {
   "cell_type": "markdown",
   "id": "d21f99b1-0e52-4164-b597-64f9325a2594",
   "metadata": {},
   "source": [
    "# Tavily AI Research Agent"
   ]
  },
  {
   "cell_type": "code",
   "execution_count": 1,
   "id": "c61edb0c-6748-4caa-a99b-e601f3a4eb3f",
   "metadata": {},
   "outputs": [
    {
     "name": "stdout",
     "output_type": "stream",
     "text": [
      "Note: you may need to restart the kernel to use updated packages.\n"
     ]
    }
   ],
   "source": [
    "pip install -q tavily-python"
   ]
  },
  {
   "cell_type": "markdown",
   "id": "834f3148-634f-4411-85ee-faa659316963",
   "metadata": {},
   "source": [
    "### Load Environment Variables"
   ]
  },
  {
   "cell_type": "code",
   "execution_count": 1,
   "id": "6dde8821-057e-4821-8508-d5f9dc1fb017",
   "metadata": {},
   "outputs": [
    {
     "data": {
      "text/plain": [
       "True"
      ]
     },
     "execution_count": 1,
     "metadata": {},
     "output_type": "execute_result"
    }
   ],
   "source": [
    "from dotenv import load_dotenv, find_dotenv\n",
    "load_dotenv(find_dotenv(), override=True)"
   ]
  },
  {
   "cell_type": "markdown",
   "id": "af575564-a83c-4c3b-b931-a0e2e4f42cbf",
   "metadata": {},
   "source": [
    "### Tavily Search "
   ]
  },
  {
   "cell_type": "code",
   "execution_count": 13,
   "id": "70ec7f98-8a55-4273-93aa-effd86ba3e27",
   "metadata": {},
   "outputs": [
    {
     "data": {
      "text/plain": [
       "{'query': 'What is the Bitcoin price today?',\n",
       " 'follow_up_questions': None,\n",
       " 'answer': None,\n",
       " 'images': [],\n",
       " 'results': [{'title': 'Bitcoin Price | BTC to USD Price Index and Live Chart - CoinDesk',\n",
       "   'url': 'https://www.coindesk.com/price/bitcoin',\n",
       "   'content': 'The price of Bitcoin (BTC) is $60,725.98 today, as of Oct 02 09:24 p.m., with a 24-hour trading volume of $42.75B. Over the last 24 hours, the price has decreased by 0.00%. Bitcoin currently has a ...',\n",
       "   'score': 0.99448806,\n",
       "   'raw_content': None},\n",
       "  {'title': 'Bitcoin Price: BTC Live Price Chart, Market Cap & News Today - CoinGecko',\n",
       "   'url': 'https://www.coingecko.com/en/coins/bitcoin',\n",
       "   'content': 'The price of Bitcoin (BTC) is BTC1.0000 today with a 24-hour trading volume of $12,684,017,144.50. This represents a 0.30% price increase in the last 24 hours and a 4.90% price increase in the past 7 days. With a circulating supply of 20 Million BTC, Bitcoin is valued at a market cap of BTC19,760,625.0000. Track the latest Bitcoin price, market ...',\n",
       "   'score': 0.9905143,\n",
       "   'raw_content': None},\n",
       "  {'title': 'Bitcoin price today, BTC to USD live price, marketcap and chart ...',\n",
       "   'url': 'https://coinmarketcap.com/currencies/bitcoin/',\n",
       "   'content': 'Bitcoin analytics\\nPeople also watch\\n1.36%\\n4.20%\\n0.39%\\n23.09%\\n5.69%\\n1.34%\\n2.27%\\n2.37%\\n0.52%\\n5.12%\\nTrending\\n0.66%\\n28.91%\\n58.41%\\n10.22%\\n3.67%\\nBitcoin Price Live Data\\nThe live Bitcoin price today is $37,246.73 USD with a 24-hour trading volume of $11,983,504,250 USD. However, while Nakamoto was the original inventor of Bitcoin, as well as the author of its very first implementation, he handed the network alert key and control of the code repository to Gavin Andresen, who later became lead developer at the Bitcoin Foundation. This means every node (computer connected to the Bitcoin network using a client that performs the task of validating and relaying transactions) needs to upgrade before the new blockchain with the hard fork activates and rejects any blocks or transactions from the old blockchain. The Bitcoin mining community also attests that the expansion of mining can help lead to the construction of new solar and wind farms in the future.\\n However, during the first few years of BTC’s existence, the competition between miners was relatively low, allowing the earliest network participants to accumulate significant amounts of coins via regular mining: Satoshi Nakamoto alone is believed to own over a million Bitcoin.\\n',\n",
       "   'score': 0.9645224,\n",
       "   'raw_content': None},\n",
       "  {'title': 'Bitcoin Price | BTC price charts, live trends & history - Kraken',\n",
       "   'url': 'https://www.kraken.com/prices/bitcoin',\n",
       "   'content': 'The current BTC to USD conversion rate is $63,243.00 per BTC. The circulating supply of Bitcoin is 19,747,373 BTC and the current Bitcoin market cap is $1,248,883,137,130. 2,827 BTC was purchased today on Kraken worth $178,802,482. Check out the BTC chart above for more real time price data.',\n",
       "   'score': 0.89368117,\n",
       "   'raw_content': None},\n",
       "  {'title': 'Bitcoin (BTC) Price, Real-time Quote & News - Google Finance',\n",
       "   'url': 'https://www.google.com/finance/quote/BTC-usd',\n",
       "   'content': 'Get the latest Bitcoin (BTC / USD) real-time quote, historical performance, charts, and other cryptocurrency information to help you make more informed trading and investment decisions.',\n",
       "   'score': 0.5852197,\n",
       "   'raw_content': None}],\n",
       " 'response_time': 2.28}"
      ]
     },
     "execution_count": 13,
     "metadata": {},
     "output_type": "execute_result"
    }
   ],
   "source": [
    "from tavily import TavilyClient\n",
    "import os\n",
    "\n",
    "client = TavilyClient(api_key=os.environ.get('TAVILY_API_KEY'))\n",
    "\n",
    "response = client.search(query='What is the Bitcoin price today?')\n",
    "response"
   ]
  },
  {
   "cell_type": "code",
   "execution_count": 15,
   "id": "666fc18a-1607-48fd-98ed-035fb6db153b",
   "metadata": {},
   "outputs": [
    {
     "name": "stdout",
     "output_type": "stream",
     "text": [
      "Title: Bitcoin Price | BTC to USD Price Index and Live Chart - CoinDesk, URL: https://www.coindesk.com/price/bitcoin\n",
      "Title: Bitcoin Price: BTC Live Price Chart, Market Cap & News Today - CoinGecko, URL: https://www.coingecko.com/en/coins/bitcoin\n",
      "Title: Bitcoin price today, BTC to USD live price, marketcap and chart ..., URL: https://coinmarketcap.com/currencies/bitcoin/\n",
      "Title: Bitcoin Price | BTC price charts, live trends & history - Kraken, URL: https://www.kraken.com/prices/bitcoin\n",
      "Title: Bitcoin (BTC) Price, Real-time Quote & News - Google Finance, URL: https://www.google.com/finance/quote/BTC-usd\n"
     ]
    }
   ],
   "source": [
    "for result in response['results']:\n",
    "    print(f\"Title: {result['title']}, URL: {result['url']}\")"
   ]
  },
  {
   "cell_type": "code",
   "execution_count": 17,
   "id": "3783e0e3-2a54-46e1-8ab7-3259f9d12850",
   "metadata": {},
   "outputs": [],
   "source": [
    "response = client.search(\n",
    "    query='What are the best programming languages to learn this year?',\n",
    "    search_depth='advanced',\n",
    "    max_results=7,\n",
    "    include_images=True,\n",
    "    include_answer=True,\n",
    "    include_raw_content=False\n",
    ")"
   ]
  },
  {
   "cell_type": "code",
   "execution_count": 21,
   "id": "40577fc4-6ecb-4802-b330-c4208a53625b",
   "metadata": {},
   "outputs": [
    {
     "data": {
      "text/plain": [
       "{'query': 'What are the best programming languages to learn this year?',\n",
       " 'follow_up_questions': None,\n",
       " 'answer': 'Based on current data sources, the best programming languages to learn in 2024 are Python, Swift, and other languages like those highlighted in the top 10 programming languages list. Python is considered the most in-demand language and is versatile for various applications including web development, automation, and artificial intelligence. Swift is also recommended for Apple product development and is noted as one of the fastest-growing languages. The top 10 programming languages list for 2024 provides a comprehensive overview of languages that are poised to shape the digital future.',\n",
       " 'images': ['https://itechhacks.com/wp-content/uploads/2022/05/Programming-Language.png',\n",
       "  'https://codinginfinite.com/wp-content/uploads/2019/10/Screenshot-2019-10-22-at-10.21.23-PM.png',\n",
       "  'https://i.pinimg.com/originals/10/73/3a/10733aa843404536ea74f5ad3923d742.png',\n",
       "  'https://cloud.fullstackacademy.com/R3-FSA-Graphic-for-9-Best-Programming-Languages-to-Learn-Blog-Post-1154131267065574-table.jpg?mtime=20200122160952',\n",
       "  'https://infographicplaza.com/wp-content/uploads/top-10-programming-languages-infographic-plaza.jpg'],\n",
       " 'results': [{'title': '10 Best Programming Languages to Learn in 2024 - Hostinger',\n",
       "   'url': 'https://www.hostinger.com/tutorials/best-programming-languages-to-learn',\n",
       "   'content': 'Follow her on LinkedIn.\\nRelated tutorials\\n13 Oct •\\nWeb Pro\\n•\\nDigital marketing has become a cornerstone of modern business strategies, and the pricing of such services is a crucial aspect for both clients and...\\n Swift is also easier to write and faster than Objective-C.\\nAs a result, Swift is arguably the best programming language in Apple product development and one of the fastest-growing programming languages available.\\n However,...\\nBy Maisha R.\\n28 Sep •\\nWeb Pro\\n•\\nWhether you’re a web developer, designer, agency, or even a client, keeping track of communication is a big part of the job. The 10 Best Programming Languages to Learn\\nDiscover the most popular and in-demand programming languages with our list of the 10 best options to learn.\\n HTML Cheat Sheet\\nCSS Cheat Sheet\\nWordPress Cheat Sheet\\nConclusion\\nPicking the best programming language to learn highly depends on what suits your needs better.\\n',\n",
       "   'score': 0.78695047,\n",
       "   'raw_content': None},\n",
       "  {'title': 'The Best Programming Languages to Learn in 2024 - CodingNomads',\n",
       "   'url': 'https://codingnomads.com/blog/the-best-programming-languages-to-learn',\n",
       "   'content': 'Python. Python remains in the top spot as the most in-demand language for 2022-2024, and is one of the best programming languages to learn for many reasons. A general-purpose, server-side programming language, Python can be used for many things from simple scripts and automations, all the way to complex web applications and artificial intelligence.',\n",
       "   'score': 0.7801604,\n",
       "   'raw_content': None},\n",
       "  {'title': 'Top 10 Programming Languages to Learn in 2024 - Towards Dev',\n",
       "   'url': 'https://towardsdev.com/top-10-programming-languages-to-learn-in-2024-308472ddcf0d',\n",
       "   'content': 'Sign up\\nSign in\\nSign up\\nSign in\\nMember-only story\\nTop 10 Programming Languages to Learn in 2024\\nBuilescu Daniel\\nFollow\\nTowards Dev\\n--\\n6\\nShare\\nExplore 2024’s most influential programming languages: Writing weekends to make you a pro coder!\\nHelp\\nStatus\\nAbout\\nCareers\\nBlog\\nPrivacy\\nTerms\\nText to speech\\nTeams Let’s embark on this adventure together, unraveling the mysteries of each language, delving deep into their intricacies, and appreciating the unique strengths…\\n--\\n--\\n6\\nWritten by Builescu Daniel\\nTowards Dev\\nEx-Googler teaching Python, Shopify Liquid & Swift. Writing weekends to…\\nmedium.com\\nThis article, carved from countless hours of research and my firsthand experience with various programming languages, aims to spotlight the top 10 programming languages that are poised to shape our digital futures. Today, we stand at the cusp of 2024, a year brimming with potential and innovation.\\n',\n",
       "   'score': 0.7255514,\n",
       "   'raw_content': None},\n",
       "  {'title': 'Top Programming Languages 2024 - IEEE Spectrum',\n",
       "   'url': 'https://spectrum.ieee.org/top-programming-languages-2024',\n",
       "   'content': 'Top Programming Languages 2024 - IEEE Spectrum Create an account to access more content and features on IEEE Spectrum , including the ability to save articles to read later, download Spectrum Collections, and participate in conversations with readers and editors. Join the world’s largest professional organization devoted to engineering and applied sciences and get access to this e-book plus all of IEEE Spectrum’s articles, archives, PDF downloads, and other benefits. Welcome to IEEE Spectrum’s 11th annual rankings of the most popular programming languages. Top Programming Languages 2024 is brought to you by the IEEE Computer Society. top programming languages - IEEE Spectrum ›',\n",
       "   'score': 0.6807725,\n",
       "   'raw_content': None},\n",
       "  {'title': 'Most Popular Programming Languages in 2024 - Coursera',\n",
       "   'url': 'https://www.coursera.org/articles/popular-programming-languages',\n",
       "   'content': 'This online course from Duke University provides you with a shareable certificate in C programming upon completion:\\nOther popular programming languages\\nSome other programming languages to consider learning once you’ve mastered the basics include:\\nJava\\nTypeScript\\nPerl\\nBash\\nR\\nSQL\\nPHP\\nHow to start learning a new programming language\\nStepan Furdei, a software engineer at Meta, says his master\\'s degree in computer science put him on the right track in his career, \"however self-education accounted for more than 90 percent of my success. Take $100 off your annual subscription\\nCoursera Footer\\nPopular AI Content\\nPopular Programs\\nPopular Skills\\nPopular Career Resources\\nCoursera\\nCommunity\\nMore With the Python for Everybody Specialization from the University of Michigan, you\\'ll learn how to write your very own program:\\n4. C\\nC is a multi-paradigm, procedural language. Learn to code, troubleshoot, and debug in C and C++ with the University of California Santa Cruz\\'s Coding for Everyone: C and C++ Specialization.\\n Start learning a programming language today on Coursera\\nOn Coursera, you can find several ways to learn how to code, including free courses, degree programs, and certificates, all 100-percent online and at your own pace.',\n",
       "   'score': 0.60533255,\n",
       "   'raw_content': None},\n",
       "  {'title': 'The 15 Best Programming Languages to Learn in 2024 - Fullstack Academy',\n",
       "   'url': 'https://www.fullstackacademy.com/blog/nine-best-programming-languages-to-learn',\n",
       "   'content': \"Programs Navigation\\nCoding\\nTech Bootcamps\\nCourses Navigation\\nFree Introductory Courses\\nResources Navigation\\nTuition & Dates Navigation\\nWhy Fullstack Navigation\\nAbout Navigation\\nPartner With Us\\nPrograms Navigation\\nCoding\\nTech Bootcamps\\nCourses Navigation\\nFree Introductory Courses\\nResources Navigation\\nTuition & Dates Navigation\\nWhy Fullstack Navigation\\nAbout Navigation\\nPartner With Us\\n06.07.2018\\n Here is a quick summary of the different possibilities we’ve discussed:\\nFront-end web development: JavaScript, TypeScript\\nBack-end web development: JavaScript, TypeScript, Python, Go, Elixir, C#\\nMobile development: Swift, Java, C#\\nGame development: C#\\nDesktop applications: Java, Python, JavaScript, TypeScript\\nSystems programming: C, Rust, Go\\nIt’s Code Time\\n 05.23.2018\\nCouponer\\nRead More\\n06.08.2018\\nLearn JavaScript for Free: 13 Online Resources for Every Level of Expertise\\nRead More\\nReady to break into tech?\\n Programs\\nPrep Courses\\nWhy Fullstack\\nAdmissions & Events\\nAbout Us\\nFullstack Academy HQ\\n147 Prince Street\\nBrooklyn, NY 11201\\n Stack Overflow’s 2023 Developer's Survey found that Rust was the most loved programming language among developers for the eighth year in a row, with 80 percent of Rust developers saying that they want to continue working with it.\\n\",\n",
       "   'score': 0.52058774,\n",
       "   'raw_content': None},\n",
       "  {'title': '10 Best Programming Languages to Learn in 2024 - Stack Diary',\n",
       "   'url': 'https://stackdiary.com/programming-languages/',\n",
       "   'content': 'Rust also supports closures, which are anonymous functions that can capture variables from their surrounding environment:\\nControl Flow\\nRust has standard control flow constructs, such as if statements, for loops, and while loops:\\nOwnership and Borrowing\\nOne of Rust’s most unique features is its ownership and borrowing system, which helps prevent common memory-related errors such as null pointer dereferences and use-after-free bugs. Its efficiency and scalability make it well-suited to managing and manipulating large amounts of data, and its use of set-based operations allows it to process data in bulk, making it faster and more efficient than other programming languages that rely on iterative processing.\\n Note that PHP code is typically embedded within HTML code in a web page, and is enclosed within PHP code blocks (between <?php and ?> tags) so that the PHP interpreter knows which parts of the code to execute.\\n In Rust, variables are declared using the let keyword, followed by the variable name and an optional type annotation:\\nFunctions\\nFunctions in Rust are declared using the fn keyword, followed by the function name, its parameters, and its return type:\\n Whether you are looking to start a career in programming or are a seasoned developer, this article provides a comprehensive overview of the best programming languages to help you stay ahead of the curve.\\n',\n",
       "   'score': 0.4747073,\n",
       "   'raw_content': None}],\n",
       " 'response_time': 4.25}"
      ]
     },
     "execution_count": 21,
     "metadata": {},
     "output_type": "execute_result"
    }
   ],
   "source": [
    "response"
   ]
  },
  {
   "cell_type": "code",
   "execution_count": 23,
   "id": "15b82401-0bb1-4e54-8b4c-74edf50ad076",
   "metadata": {},
   "outputs": [
    {
     "name": "stdout",
     "output_type": "stream",
     "text": [
      "Real Madrid won the UEFA Champions League in 2024 by defeating Borussia Dortmund 2-0 in the final. This victory secured Real Madrid's 15th European title.\n"
     ]
    }
   ],
   "source": [
    "answer = client.qna_search(query='Who won the UEFA Champions League in 2024?')\n",
    "print(answer)"
   ]
  },
  {
   "cell_type": "markdown",
   "id": "e9deeb91-b650-4407-b594-8e76a94aca83",
   "metadata": {},
   "source": [
    "### Combine Tavily's search capabilities with language models using LangChain and OpenAI"
   ]
  },
  {
   "cell_type": "code",
   "execution_count": 26,
   "id": "f7b5e241-6cb3-4e66-8bdb-9d16b1252e95",
   "metadata": {},
   "outputs": [
    {
     "data": {
      "text/plain": [
       "[{'title': 'Exploring AI Automation: Agentic Workflows with LangGraph and ... - Medium',\n",
       "  'url': 'https://medium.com/@LakshmiNarayana_U/exploring-ai-automation-agentic-workflows-with-langgraph-and-tavily-155f5442a999',\n",
       "  'content': \"Prominent Features\\nLangGraph Concepts Overview\\nNodes\\nEdges\\nState Management\\nPersistence\\nThreads\\nConfiguration\\nAgentic workflows with LangGraph\\nMulti Agent Flow\\nSupervisor Agent Flow\\nFlow Engineering\\nPlan and Execute\\nFor a deep dive into LangGraph, do check out this excellent course at deeplearning.ai, from the founders of LangChain and Tavily.\\n Sign up\\nSign in\\nSign up\\nSign in\\nExploring AI Automation: Agentic Workflows with LangGraph and Tavily\\nLakshmi narayana .U\\nFollow\\n--\\nListen\\nShare\\nAI Agents and Agentic Overflows\\nAgents, in the context of AI and machine learning, are programs that can learn, perceive their environment, and make decisions to achieve certain goals. Author- 'Directing Business' | AI,ML Enthusiast\\nHelp\\nStatus\\nAbout\\nCareers\\nPress\\nBlog\\nPrivacy\\nTerms\\nText to speech\\nTeams Using Neo4j and Langchain for Knowledge Graph Creation: A Detailed Guide\\nThe Power and Potential of Knowledge Graphs in AI and Data Management\\nblog.stackademic.com\\nReferences\\n--\\n--\\nWritten by Lakshmi narayana .U\\n Using Autogen for Effective Multi-Agent Collaboration\\nDesign Patterns for Building AI Agents: Reflection, Tool Use, Planning, and Multi-Agent Collaboration\\nmedium.com\\nLangGraph from LangChain\\nLangChain, a popular open source framework for building LLM applications, recently introduced LangGraph.\",\n",
       "  'score': 0.99850464,\n",
       "  'raw_content': None},\n",
       " {'title': 'langchain-ai/langgraph: Build resilient language agents as graphs. - GitHub',\n",
       "  'url': 'https://github.com/langchain-ai/langgraph',\n",
       "  'content': 'LangGraph is a library for building stateful, multi-actor applications with LLMs, used to create agent and multi-agent workflows. Compared to other LLM frameworks, it offers these core benefits: cycles, controllability, and persistence. LangGraph allows you to define flows that involve cycles, essential for most agentic architectures, differentiating it from DAG-based solutions.',\n",
       "  'score': 0.9982926,\n",
       "  'raw_content': None},\n",
       " {'title': 'Flow Engineering and Agentic RAG with LangGraph | Databricks',\n",
       "  'url': 'https://www.databricks.com/dataaisummit/session/flow-engineering-and-agentic-rag-langgraph',\n",
       "  'content': \"Erick Friis. Retrieval Augmented Generation (RAG) applications are one of the fastest ways to deliver value with GenAI to your organization. In this talk, we'll build an advanced RAG agent using LangChain's flow engineering framework, LangGraph. We'll show how LangGraph can be used to build reliable RAG agents that follow a user-defined ...\",\n",
       "  'score': 0.99603915,\n",
       "  'raw_content': None},\n",
       " {'title': 'How to Build the Ultimate AI Automation with Multi-Agent Collaboration',\n",
       "  'url': 'https://blog.langchain.dev/how-to-build-the-ultimate-ai-automation-with-multi-agent-collaboration/',\n",
       "  'content': 'Introducing LangGraph. LangGraph is an extension of LangChain aimed at creating agent and multi-agent flows. It adds in the ability to create cyclical flows and comes with memory built in - both important attributes for creating agents. LangGraph provides developers with a high degree of controllability and is important for creating custom ...',\n",
       "  'score': 0.99491996,\n",
       "  'raw_content': None},\n",
       " {'title': 'Decode How to Build Agentic AI Applications using LangGraph',\n",
       "  'url': 'https://datasciencedojo.com/newsletter/agentic-ai-langgraph/',\n",
       "  'content': 'Decode How to Build Agentic AI Applications using LangGraph We offer online and in-person learning programs in analytics, data science and AI. agentic ai, langgraph Building Agentic AI Applications using LangGraph – A Detailed Guide Welcome to Data Science Dojo’s weekly AI newsletter, “The Data-Driven Dispatch“. There are quite a lot of agentic frameworks that can leveraged to build AI agentic applications, but LangGraph stands out because of its ease of use, and how it allows one to build iterative, decision-based flows that advanced AI agentic frameworks often require. Read more: LangGraph: Revolutionizing AI Agent Workflows agentic ai, langgraph Subscribe to get the latest updates on AI, Data Science, LLMs, and Machine Learning.',\n",
       "  'score': 0.9942697,\n",
       "  'raw_content': None}]"
      ]
     },
     "execution_count": 26,
     "metadata": {},
     "output_type": "execute_result"
    }
   ],
   "source": [
    "from langchain.adapters.openai import convert_openai_messages\n",
    "from langchain_openai import ChatOpenAI\n",
    "\n",
    "query = 'What is Flow Engineering used in agentic applications and LangGraph?'\n",
    "\n",
    "response = client.search(query, max_results=5, search_depth='Advanced')['results']\n",
    "response"
   ]
  },
  {
   "cell_type": "code",
   "execution_count": 28,
   "id": "2b90612e-34c7-402f-8fef-30f0498147c4",
   "metadata": {},
   "outputs": [
    {
     "data": {
      "text/plain": [
       "[SystemMessage(content='\\n        You are an AI critical thinker research assistant.\\n        Your sole purpose is to write well written, objective and structured reports on given text.\\n        ', additional_kwargs={}, response_metadata={}),\n",
       " HumanMessage(content='Information: \"\"\"[{\\'title\\': \\'Exploring AI Automation: Agentic Workflows with LangGraph and ... - Medium\\', \\'url\\': \\'https://medium.com/@LakshmiNarayana_U/exploring-ai-automation-agentic-workflows-with-langgraph-and-tavily-155f5442a999\\', \\'content\\': \"Prominent Features\\\\nLangGraph Concepts Overview\\\\nNodes\\\\nEdges\\\\nState Management\\\\nPersistence\\\\nThreads\\\\nConfiguration\\\\nAgentic workflows with LangGraph\\\\nMulti Agent Flow\\\\nSupervisor Agent Flow\\\\nFlow Engineering\\\\nPlan and Execute\\\\nFor a deep dive into LangGraph, do check out this excellent course at deeplearning.ai, from the founders of LangChain and Tavily.\\\\n Sign up\\\\nSign in\\\\nSign up\\\\nSign in\\\\nExploring AI Automation: Agentic Workflows with LangGraph and Tavily\\\\nLakshmi narayana .U\\\\nFollow\\\\n--\\\\nListen\\\\nShare\\\\nAI Agents and Agentic Overflows\\\\nAgents, in the context of AI and machine learning, are programs that can learn, perceive their environment, and make decisions to achieve certain goals. Author- \\'Directing Business\\' | AI,ML Enthusiast\\\\nHelp\\\\nStatus\\\\nAbout\\\\nCareers\\\\nPress\\\\nBlog\\\\nPrivacy\\\\nTerms\\\\nText to speech\\\\nTeams Using Neo4j and Langchain for Knowledge Graph Creation: A Detailed Guide\\\\nThe Power and Potential of Knowledge Graphs in AI and Data Management\\\\nblog.stackademic.com\\\\nReferences\\\\n--\\\\n--\\\\nWritten by Lakshmi narayana .U\\\\n Using Autogen for Effective Multi-Agent Collaboration\\\\nDesign Patterns for Building AI Agents: Reflection, Tool Use, Planning, and Multi-Agent Collaboration\\\\nmedium.com\\\\nLangGraph from LangChain\\\\nLangChain, a popular open source framework for building LLM applications, recently introduced LangGraph.\", \\'score\\': 0.99850464, \\'raw_content\\': None}, {\\'title\\': \\'langchain-ai/langgraph: Build resilient language agents as graphs. - GitHub\\', \\'url\\': \\'https://github.com/langchain-ai/langgraph\\', \\'content\\': \\'LangGraph is a library for building stateful, multi-actor applications with LLMs, used to create agent and multi-agent workflows. Compared to other LLM frameworks, it offers these core benefits: cycles, controllability, and persistence. LangGraph allows you to define flows that involve cycles, essential for most agentic architectures, differentiating it from DAG-based solutions.\\', \\'score\\': 0.9982926, \\'raw_content\\': None}, {\\'title\\': \\'Flow Engineering and Agentic RAG with LangGraph | Databricks\\', \\'url\\': \\'https://www.databricks.com/dataaisummit/session/flow-engineering-and-agentic-rag-langgraph\\', \\'content\\': \"Erick Friis. Retrieval Augmented Generation (RAG) applications are one of the fastest ways to deliver value with GenAI to your organization. In this talk, we\\'ll build an advanced RAG agent using LangChain\\'s flow engineering framework, LangGraph. We\\'ll show how LangGraph can be used to build reliable RAG agents that follow a user-defined ...\", \\'score\\': 0.99603915, \\'raw_content\\': None}, {\\'title\\': \\'How to Build the Ultimate AI Automation with Multi-Agent Collaboration\\', \\'url\\': \\'https://blog.langchain.dev/how-to-build-the-ultimate-ai-automation-with-multi-agent-collaboration/\\', \\'content\\': \\'Introducing LangGraph. LangGraph is an extension of LangChain aimed at creating agent and multi-agent flows. It adds in the ability to create cyclical flows and comes with memory built in - both important attributes for creating agents. LangGraph provides developers with a high degree of controllability and is important for creating custom ...\\', \\'score\\': 0.99491996, \\'raw_content\\': None}, {\\'title\\': \\'Decode How to Build Agentic AI Applications using LangGraph\\', \\'url\\': \\'https://datasciencedojo.com/newsletter/agentic-ai-langgraph/\\', \\'content\\': \\'Decode How to Build Agentic AI Applications using LangGraph We offer online and in-person learning programs in analytics, data science and AI. agentic ai, langgraph Building Agentic AI Applications using LangGraph – A Detailed Guide Welcome to Data Science Dojo’s weekly AI newsletter, “The Data-Driven Dispatch“. There are quite a lot of agentic frameworks that can leveraged to build AI agentic applications, but LangGraph stands out because of its ease of use, and how it allows one to build iterative, decision-based flows that advanced AI agentic frameworks often require. Read more: LangGraph: Revolutionizing AI Agent Workflows agentic ai, langgraph Subscribe to get the latest updates on AI, Data Science, LLMs, and Machine Learning.\\', \\'score\\': 0.9942697, \\'raw_content\\': None}]\"\"\"\\n        Using the above information, answer the following query: \"\"\"What is Flow Engineering used in agentic applications and LangGraph?\"\"\" in a detailed report.\\n        Finish the report with a section for references including URLs\\n        ', additional_kwargs={}, response_metadata={})]"
      ]
     },
     "execution_count": 28,
     "metadata": {},
     "output_type": "execute_result"
    }
   ],
   "source": [
    "# setting up the OpenAI API Prompt\n",
    "prompt = [\n",
    "    {\n",
    "        'role':'system',\n",
    "        'content': f'''\n",
    "        You are an AI critical thinker research assistant.\n",
    "        Your sole purpose is to write well written, objective and structured reports on given text.\n",
    "        '''\n",
    "    },\n",
    "    {\n",
    "        'role':'user',\n",
    "        'content': f'''Information: \"\"\"{response}\"\"\"\n",
    "        Using the above information, answer the following query: \"\"\"{query}\"\"\" in a detailed report.\n",
    "        Finish the report with a section for references including URLs\n",
    "        '''\n",
    "    }\n",
    "]\n",
    "\n",
    "lc_messages = convert_openai_messages(prompt)\n",
    "lc_messages"
   ]
  },
  {
   "cell_type": "code",
   "execution_count": 30,
   "id": "8ba9ee45-1afc-4fc3-80d3-260da3faa659",
   "metadata": {},
   "outputs": [
    {
     "name": "stdout",
     "output_type": "stream",
     "text": [
      "# Report on Flow Engineering in Agentic Applications and LangGraph\n",
      "\n",
      "## Introduction\n",
      "Flow engineering is a critical component in the development of agentic applications, particularly in the context of AI and machine learning. It refers to the design and implementation of workflows that enable agents to interact, make decisions, and achieve specific goals in a systematic manner. With the rise of frameworks like LangGraph, flow engineering has become more sophisticated, allowing for the creation of resilient and dynamic workflows capable of handling complex tasks.\n",
      "\n",
      "## Understanding Flow Engineering\n",
      "Flow engineering involves the creation of workflows that dictate how data and control flow between various components in an application. This is particularly significant in multi-agent systems where different agents must collaborate to accomplish tasks. Key aspects of flow engineering include:\n",
      "\n",
      "1. **State Management**: This involves maintaining the current state of an agent or a system throughout its workflow. Proper state management ensures that agents can make informed decisions based on historical data and interactions.\n",
      "\n",
      "2. **Cyclical Flows**: Unlike traditional directed acyclic graphs (DAGs), LangGraph supports cyclical flows, allowing agents to revisit previous states and make iterative decisions. This feature is crucial for applications that require feedback loops and continuous learning.\n",
      "\n",
      "3. **Persistence**: Flow engineering in LangGraph emphasizes the importance of persisting data throughout the agent's lifecycle. This means that agents can retain information across sessions, which is vital for long-term learning and adaptability.\n",
      "\n",
      "4. **Controllability**: LangGraph provides developers with tools to define and control the behavior of agents within their workflows. This allows for customization and fine-tuning of agent interactions based on specific requirements.\n",
      "\n",
      "5. **Multi-Agent Collaboration**: Flow engineering facilitates the coordination of multiple agents working together. This includes defining communication protocols and interaction patterns that dictate how agents share information and collaborate on tasks.\n",
      "\n",
      "## Applications of Flow Engineering in LangGraph\n",
      "LangGraph, a library developed as an extension of LangChain, is designed to support the creation of agentic workflows that leverage flow engineering principles. Some of its notable applications include:\n",
      "\n",
      "- **Retrieval Augmented Generation (RAG)**: LangGraph can be utilized to build advanced RAG agents that combine retrieval of relevant information with generation capabilities. This integration enhances the ability of agents to provide valuable insights based on user-defined queries.\n",
      "\n",
      "- **Custom Workflows**: Developers can create tailored workflows that align with specific business goals. LangGraph's capabilities for cyclical flows and state management make it easier to construct complex, iterative workflows that can evolve over time.\n",
      "\n",
      "- **Multi-Agent Systems**: LangGraph is particularly effective in environments where multiple agents need to collaborate. The framework supports the design of collaborative workflows that allow agents to share knowledge and work together to solve problems.\n",
      "\n",
      "## Conclusion\n",
      "Flow engineering is an essential aspect of developing agentic applications, enabling the creation of structured and efficient workflows that facilitate decision-making and collaboration among agents. LangGraph enhances these capabilities through its support for cyclical flows, state management, and multi-agent collaboration, making it a powerful tool for developers looking to build sophisticated AI systems.\n",
      "\n",
      "## References\n",
      "1. Lakshmi Narayana U. \"Exploring AI Automation: Agentic Workflows with LangGraph and Tavily.\" Medium. [Read more](https://medium.com/@LakshmiNarayana_U/exploring-ai-automation-agentic-workflows-with-langgraph-and-tavily-155f5442a999)\n",
      "2. GitHub. \"langchain-ai/langgraph: Build resilient language agents as graphs.\" [Read more](https://github.com/langchain-ai/langgraph)\n",
      "3. Databricks. \"Flow Engineering and Agentic RAG with LangGraph.\" [Read more](https://www.databricks.com/dataaisummit/session/flow-engineering-and-agentic-rag-langgraph)\n",
      "4. LangChain Blog. \"How to Build the Ultimate AI Automation with Multi-Agent Collaboration.\" [Read more](https://blog.langchain.dev/how-to-build-the-ultimate-ai-automation-with-multi-agent-collaboration/)\n",
      "5. Data Science Dojo. \"Decode How to Build Agentic AI Applications using LangGraph.\" [Read more](https://datasciencedojo.com/newsletter/agentic-ai-langgraph/)\n"
     ]
    }
   ],
   "source": [
    "response = ChatOpenAI(model='gpt-4o-mini').invoke(lc_messages)\n",
    "print(response.content)"
   ]
  },
  {
   "cell_type": "markdown",
   "id": "01789949-9bf0-4239-a932-72289dd4c4a4",
   "metadata": {},
   "source": [
    "### LangGraph AI Research Agent Using Tavily Search"
   ]
  },
  {
   "cell_type": "code",
   "execution_count": 34,
   "id": "8c286f73-5e9d-4b8f-bc31-6ccfbcd3ddbb",
   "metadata": {},
   "outputs": [],
   "source": [
    "from langgraph.checkpoint.memory import MemorySaver\n",
    "\n",
    "memory = MemorySaver()"
   ]
  },
  {
   "cell_type": "code",
   "execution_count": 36,
   "id": "c8aaf7c3-61e1-4319-89f2-ffb0c73834f5",
   "metadata": {},
   "outputs": [],
   "source": [
    "from typing import Annotated\n",
    "\n",
    "from langchain_community.tools.tavily_search import TavilySearchResults\n",
    "from langchain_core.messages import BaseMessage\n",
    "from typing_extensions import TypedDict\n",
    "\n",
    "from langgraph.graph import StateGraph, START, END\n",
    "from langgraph.graph.message import add_messages\n",
    "from langgraph.prebuilt import ToolNode, tools_condition\n",
    "\n",
    "\n",
    "class State(TypedDict):\n",
    "    messages: Annotated[list, add_messages]\n",
    "\n",
    "\n",
    "graph_builder = StateGraph(State)\n",
    "\n",
    "\n",
    "tool = TavilySearchResults(max_results=2)\n",
    "tools = [tool]\n",
    "llm = ChatOpenAI(model_name='gpt-4o-mini', temperature=0.7)\n",
    "llm_with_tools = llm.bind_tools(tools)\n",
    "\n",
    "\n",
    "def chatbot(state: State):\n",
    "    return {\"messages\": [llm_with_tools.invoke(state[\"messages\"])]}\n",
    "\n",
    "\n",
    "graph_builder.add_node(\"chatbot\", chatbot)\n",
    "\n",
    "tool_node = ToolNode(tools=[tool])\n",
    "graph_builder.add_node(\"tools\", tool_node)\n",
    "\n",
    "graph_builder.add_conditional_edges(\n",
    "    \"chatbot\",\n",
    "    tools_condition,\n",
    ")\n",
    "graph_builder.add_edge(\"tools\", \"chatbot\")\n",
    "graph_builder.add_edge(START, \"chatbot\")\n",
    "\n",
    "graph = graph_builder.compile(checkpointer=memory)"
   ]
  },
  {
   "cell_type": "code",
   "execution_count": 38,
   "id": "debf0a7b-7639-48ed-acd6-e72c6bec2fbb",
   "metadata": {},
   "outputs": [
    {
     "data": {
      "image/jpeg": "[encoded data removed]",
      "text/plain": [
       "<IPython.core.display.Image object>"
      ]
     },
     "metadata": {},
     "output_type": "display_data"
    }
   ],
   "source": [
    "from IPython.display import Image, display\n",
    "\n",
    "try:\n",
    "    display(Image(graph.get_graph().draw_mermaid_png()))\n",
    "except Exception:\n",
    "    pass"
   ]
  },
  {
   "cell_type": "code",
   "execution_count": 46,
   "id": "eaf59e66-643a-4e2d-a960-94679a5d3d6f",
   "metadata": {},
   "outputs": [
    {
     "name": "stdout",
     "output_type": "stream",
     "text": [
      "You:  What were the major news in technology this week?\n"
     ]
    },
    {
     "name": "stdout",
     "output_type": "stream",
     "text": [
      "AI: What were the major news in technology this week?\n",
      "AI: \n",
      "AI: [{\"url\": \"https://www.infoplease.com/current-events/2023/november-science-technology-news\", \"content\": \"Here are the Science & Technology news events you need to know so far for November 2023. Canadian Government Bans WeChat From All Official Devices. The Euclid Telescope Sends Back Its First Set Of Images From The Deep Dark Universe. Video Chat Website, Omegle, Announces Permanent Shutdown. YouTube Is Working On AI Technology That Can Clone ...\"}, {\"url\": \"https://scitechdaily.com/news/technology/\", \"content\": \"An intense international effort to improve the resolution of magnetic resonance imaging…\\nTechnology\\nHuGE AI Breakthrough: Using Crowdsourced Feedback in Robot Training\\nTechnology\\nNew Discovery Could Make Organic Solar Cells Significantly More Efficient\\nTechnology\\nUnlocking Nature’s Fastest Timescales: Ultrafast Lasers Shrunk to Fingertip Size\\nTechnology\\nSilk Meets Silicon: The Dawn of Biological Hybrid Transistors\\nTechnology\\nFrom Pixels to Paradigms: MIT’s Synthetic Leap in AI Training\\nTechnology\\nHarnessing the Sea’s Hidden Energy: New Nano-Device Turns Seawater Into Electricity\\nTechnology\\n Scientists Uncover the Vagus Nerve’s Hidden Influence\\nA recent study revolutionizes existing views on exercise by revealing a significant role of the vagus nerve, famed for helping us ‘rest and digest’, in…\\nNovember 25, 2023\\nThe Silent Epidemic: 7 Million Americans Unaware of Their Mild Cognitive Impairment\\nNovember 25, 2023\\nAvoid This Common Mistake – Scientists Discover Simple Tip for Making Better Decisions\\nNovember 25, 2023\\nChristmas Tree Galaxy Cluster: The Future of AI: Self-Learning Machines Could Replace Current Artificial Neural Networks\\nTechnology\\nThe Limits of AI: Why ChatGPT Isn’t Truly “Intelligent”\\nTechnology\\nNovember 21, 2023\\nNano-Sized Powerhouses: Ultrafast Laser Technology Miniaturized on Tiny Photonic Chips\\nCaltech has innovated a method for creating compact, integrated mode-locked lasers on photonic chips, potentially transforming ultrafast laser applications to smaller scales with enhanced performance….\\n Yet, challenges arise at the…\\nTechnology\\nNovember 17, 2023\\nRobotic Grasp of Language: Unlocking an Open-Ended World for Automation\\nBy blending 2D images with foundation models to build 3D feature fields, a new MIT method helps robots understand and manipulate nearby objects with open-ended…\\nTechnology\\nNovember 17, 2023\\n 10 Million Miles Away: NASA Achieves Historic Data Exchange With Deep Space Optical Communications Experiment\\nDSOC, an experiment that could transform how spacecraft communicate, has achieved ‘first light,’ sending data via laser to and from far beyond the Moon for…\\nTechnology\\nNovember 15, 2023\\nA Milestone in Computing: 2D In-Memory Processor With Over 1000 Transistors\\nDeveloped by EPFL researchers, the first large-scale in-memory processor using 2D semiconductor materials could substantially cut the ICT sector’s energy footprint.\"}]\n",
      "AI: Here are the major technology news headlines from the week of November 6 to November 12, 2023:\n",
      "\n",
      "1. **Canadian Government Bans WeChat**: The Canadian government has banned the use of WeChat on all official devices, reflecting growing concerns over data privacy and security.\n",
      "\n",
      "2. **Euclid Telescope's First Images**: The Euclid Telescope has sent back its first set of images from deep space, marking a significant milestone in astronomical research.\n",
      "\n",
      "3. **Omegle Announces Shutdown**: The video chat website Omegle has announced its permanent shutdown, indicating a shift in user engagement and online communication preferences.\n",
      "\n",
      "4. **YouTube's AI Cloning Technology**: YouTube is working on new AI technology that aims to clone voices, enhancing content creation capabilities on the platform.\n",
      "\n",
      "5. **AI and Organic Solar Cells**: Researchers are making strides in using AI to improve the efficiency of organic solar cells, potentially transforming renewable energy solutions.\n",
      "\n",
      "6. **Ultrafast Laser Technology**: Innovations in ultrafast laser technology have led to devices being shrunk to fingertip size, which could have wide-ranging applications in various fields.\n",
      "\n",
      "These developments highlight significant trends in data privacy, space exploration, content creation, and renewable energy technology. For more details, you can visit sources like [InfoPlease](https://www.infoplease.com/current-events/2023/november-science-technology-news) and [SciTechDaily](https://scitechdaily.com/news/technology/).\n"
     ]
    },
    {
     "name": "stdout",
     "output_type": "stream",
     "text": [
      "You:  Can you please summarize it?\n"
     ]
    },
    {
     "name": "stdout",
     "output_type": "stream",
     "text": [
      "AI: Can you please summarize it?\n",
      "AI: Here’s a summary of the major technology news from the week of November 6 to November 12, 2023:\n",
      "\n",
      "1. **WeChat Ban**: The Canadian government has banned WeChat from all official devices due to privacy and security concerns.\n",
      "\n",
      "2. **Euclid Telescope**: The Euclid Telescope has successfully sent back its first images from deep space, marking a significant achievement in astronomy.\n",
      "\n",
      "3. **Omegle Shutdown**: The video chat site Omegle announced its permanent shutdown, reflecting changes in online communication trends.\n",
      "\n",
      "4. **YouTube AI Technology**: YouTube is developing AI technology to clone voices, which could enhance content creation on the platform.\n",
      "\n",
      "5. **AI in Renewable Energy**: Researchers are advancing AI applications to improve the efficiency of organic solar cells, potentially benefiting renewable energy efforts.\n",
      "\n",
      "6. **Miniaturized Lasers**: Innovations in ultrafast laser technology have led to the development of tiny lasers, which could have diverse applications.\n",
      "\n",
      "These highlights illustrate key trends in data privacy, space exploration, content creation, and renewable energy technology.\n"
     ]
    },
    {
     "name": "stdout",
     "output_type": "stream",
     "text": [
      "You:  exit\n"
     ]
    },
    {
     "name": "stdout",
     "output_type": "stream",
     "text": [
      "AI: Goodbye!\n",
      "Conversation ended.\n"
     ]
    }
   ],
   "source": [
    "config = {\"configurable\": {\"thread_id\": \"1\"}}\n",
    "\n",
    "while True:\n",
    "    user_input = input(\"You: \")\n",
    "    if user_input.lower() == 'exit':\n",
    "        print(\"AI: Goodbye!\")\n",
    "        break\n",
    "\n",
    "    events = graph.stream(\n",
    "        {\"messages\": [(\"user\", user_input)]}, config, stream_mode=\"values\"\n",
    "    )\n",
    "    \n",
    "    for event in events:\n",
    "        ai_response = event[\"messages\"][-1].content\n",
    "        print(f\"AI: {ai_response}\")\n",
    "\n",
    "print(\"Conversation ended.\")"
   ]
  },
  {
   "cell_type": "code",
   "execution_count": null,
   "id": "e26387a8-6532-47ed-97c3-4645945eaa8b",
   "metadata": {},
   "outputs": [],
   "source": []
  },
  {
   "cell_type": "code",
   "execution_count": null,
   "id": "154c8650-2662-4e29-ba74-49400b62411e",
   "metadata": {},
   "outputs": [],
   "source": []
  },
  {
   "cell_type": "code",
   "execution_count": null,
   "id": "3c9b00b7-a51b-4537-92fe-b071ca3778ed",
   "metadata": {},
   "outputs": [],
   "source": []
  },
  {
   "cell_type": "code",
   "execution_count": null,
   "id": "f25d3181-bc28-41b2-b2ae-0f9510f8bbfa",
   "metadata": {},
   "outputs": [],
   "source": []
  },
  {
   "cell_type": "code",
   "execution_count": null,
   "id": "8b524842-6c35-4c49-8299-3ed028cdf959",
   "metadata": {},
   "outputs": [],
   "source": []
  },
  {
   "cell_type": "code",
   "execution_count": null,
   "id": "9bb3136b-b7e0-4d29-9dce-1e252b56d704",
   "metadata": {},
   "outputs": [],
   "source": []
  },
  {
   "cell_type": "code",
   "execution_count": null,
   "id": "183e107e-9db4-417a-bdd5-2d3fd13620e3",
   "metadata": {},
   "outputs": [],
   "source": []
  },
  {
   "cell_type": "code",
   "execution_count": null,
   "id": "ba72873d-9de0-45fa-8214-bc6b93e232f7",
   "metadata": {},
   "outputs": [],
   "source": []
  },
  {
   "cell_type": "code",
   "execution_count": null,
   "id": "0826dbeb-c632-43e5-a8c7-771e68570b13",
   "metadata": {},
   "outputs": [],
   "source": []
  },
  {
   "cell_type": "code",
   "execution_count": null,
   "id": "33934916-4ae8-4243-a561-49661bf9b230",
   "metadata": {},
   "outputs": [],
   "source": []
  },
  {
   "cell_type": "code",
   "execution_count": null,
   "id": "e4d50637-c5a4-47f1-995c-73a334d6db18",
   "metadata": {},
   "outputs": [],
   "source": []
  },
  {
   "cell_type": "code",
   "execution_count": null,
   "id": "2a4b26dd-62e3-450f-8980-ae6521ae9d1a",
   "metadata": {},
   "outputs": [],
   "source": []
  },
  {
   "cell_type": "code",
   "execution_count": null,
   "id": "3da95328-3ce4-4b84-b33f-fb36d179cbfb",
   "metadata": {},
   "outputs": [],
   "source": []
  },
  {
   "cell_type": "code",
   "execution_count": null,
   "id": "dda15f3f-c9b6-4767-a9f6-24b837a114af",
   "metadata": {},
   "outputs": [],
   "source": []
  },
  {
   "cell_type": "code",
   "execution_count": null,
   "id": "e98c4467-02ba-455e-bd31-94dcf8873f5b",
   "metadata": {},
   "outputs": [],
   "source": []
  },
  {
   "cell_type": "code",
   "execution_count": null,
   "id": "7455531b-41cc-46a9-b1ab-eb3d793666cb",
   "metadata": {},
   "outputs": [],
   "source": []
  },
  {
   "cell_type": "code",
   "execution_count": null,
   "id": "b973bca8-b152-4d97-8444-f823874d44ff",
   "metadata": {},
   "outputs": [],
   "source": []
  },
  {
   "cell_type": "code",
   "execution_count": null,
   "id": "d661cc3f-f0be-412b-8f64-5f03f02e035d",
   "metadata": {},
   "outputs": [],
   "source": []
  },
  {
   "cell_type": "code",
   "execution_count": null,
   "id": "a46db5da-15fd-4233-af6d-6e65ababd9e9",
   "metadata": {},
   "outputs": [],
   "source": []
  },
  {
   "cell_type": "code",
   "execution_count": null,
   "id": "d2dbf747-a7d8-46e0-b26c-0954ec275b8a",
   "metadata": {},
   "outputs": [],
   "source": []
  },
  {
   "cell_type": "code",
   "execution_count": null,
   "id": "b8b973f9-e929-41f9-b986-13b855ad68f8",
   "metadata": {},
   "outputs": [],
   "source": []
  },
  {
   "cell_type": "code",
   "execution_count": null,
   "id": "fd77295f-fd8f-4203-8364-913b8713f0f7",
   "metadata": {},
   "outputs": [],
   "source": []
  },
  {
   "cell_type": "code",
   "execution_count": null,
   "id": "7f4ded20-5e54-41f4-8dbd-d74ebcbd7e6e",
   "metadata": {},
   "outputs": [],
   "source": []
  },
  {
   "cell_type": "code",
   "execution_count": null,
   "id": "7f8413be-5e2c-499c-9668-cf47e02c7be3",
   "metadata": {},
   "outputs": [],
   "source": []
  },
  {
   "cell_type": "code",
   "execution_count": null,
   "id": "c3fb4f48-e465-4678-b023-2b3a07da1f72",
   "metadata": {},
   "outputs": [],
   "source": []
  },
  {
   "cell_type": "code",
   "execution_count": null,
   "id": "7462c2af-84f5-456e-90c7-aec3d5c4f299",
   "metadata": {},
   "outputs": [],
   "source": []
  },
  {
   "cell_type": "code",
   "execution_count": null,
   "id": "587cf5a8-a441-4e19-a3e4-2af3299b835c",
   "metadata": {},
   "outputs": [],
   "source": []
  },
  {
   "cell_type": "code",
   "execution_count": null,
   "id": "6aacab2d-9050-4c5f-b50e-481c3e8513bb",
   "metadata": {},
   "outputs": [],
   "source": []
  }
 ],
 "metadata": {
  "kernelspec": {
   "display_name": "Python 3",
   "language": "python",
   "name": "python3"
  },
  "language_info": {
   "codemirror_mode": {
    "name": "ipython",
    "version": 3
   },
   "file_extension": ".py",
   "mimetype": "text/x-python",
   "name": "python",
   "nbconvert_exporter": "python",
   "pygments_lexer": "ipython3",
   "version": "3.12.8"
  }
 },
 "nbformat": 4,
 "nbformat_minor": 5
}
