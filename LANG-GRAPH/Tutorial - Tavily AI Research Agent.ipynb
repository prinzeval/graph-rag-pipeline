{
 "cells": [
  {
   "cell_type": "markdown",
   "id": "d21f99b1-0e52-4164-b597-64f9325a2594",
   "metadata": {},
   "source": [
    "# Tavily AI Research Agent"
   ]
  },
  {
   "cell_type": "code",
   "execution_count": 1,
   "id": "c61edb0c-6748-4caa-a99b-e601f3a4eb3f",
   "metadata": {},
   "outputs": [
    {
     "name": "stdout",
     "output_type": "stream",
     "text": [
      "Note: you may need to restart the kernel to use updated packages.\n"
     ]
    }
   ],
   "source": [
    "pip install -q tavily-python"
   ]
  },
  {
   "cell_type": "markdown",
   "id": "834f3148-634f-4411-85ee-faa659316963",
   "metadata": {},
   "source": [
    "### Load Environment Variables"
   ]
  },
  {
   "cell_type": "code",
   "execution_count": 2,
   "id": "6dde8821-057e-4821-8508-d5f9dc1fb017",
   "metadata": {},
   "outputs": [
    {
     "data": {
      "text/plain": [
       "True"
      ]
     },
     "execution_count": 2,
     "metadata": {},
     "output_type": "execute_result"
    }
   ],
   "source": [
    "from dotenv import load_dotenv, find_dotenv\n",
    "load_dotenv(find_dotenv(), override=True)"
   ]
  },
  {
   "cell_type": "markdown",
   "id": "af575564-a83c-4c3b-b931-a0e2e4f42cbf",
   "metadata": {},
   "source": [
    "### Tavily Search "
   ]
  },
  {
   "cell_type": "code",
   "execution_count": null,
   "id": "70ec7f98-8a55-4273-93aa-effd86ba3e27",
   "metadata": {},
   "outputs": [
    {
     "data": {
      "text/plain": [
       "{'query': 'What is the Bitcoin price today?',\n",
       " 'follow_up_questions': None,\n",
       " 'answer': None,\n",
       " 'images': [],\n",
       " 'results': [{'title': 'Bitcoin price today, BTC to USD live price, marketcap and chart ...',\n",
       "   'url': 'https://coinmarketcap.com/currencies/bitcoin/',\n",
       "   'content': 'Bitcoin analytics\\nPeople also watch\\n1.36%\\n4.20%\\n0.39%\\n23.09%\\n5.69%\\n1.34%\\n2.27%\\n2.37%\\n0.52%\\n5.12%\\nTrending\\n0.66%\\n28.91%\\n58.41%\\n10.22%\\n3.67%\\nBitcoin Price Live Data\\nThe live Bitcoin price today is $37,246.73 USD with a 24-hour trading volume of $11,983,504,250 USD. However, while Nakamoto was the original inventor of Bitcoin, as well as the author of its very first implementation, he handed the network alert key and control of the code repository to Gavin Andresen, who later became lead developer at the Bitcoin Foundation. This means every node (computer connected to the Bitcoin network using a client that performs the task of validating and relaying transactions) needs to upgrade before the new blockchain with the hard fork activates and rejects any blocks or transactions from the old blockchain. The Bitcoin mining community also attests that the expansion of mining can help lead to the construction of new solar and wind farms in the future.\\n However, during the first few years of BTC’s existence, the competition between miners was relatively low, allowing the earliest network participants to accumulate significant amounts of coins via regular mining: Satoshi Nakamoto alone is believed to own over a million Bitcoin.\\n',\n",
       "   'score': 0.942002,\n",
       "   'raw_content': None},\n",
       "  {'title': 'Bitcoin Price: BTC Live Price Chart, Market Cap & News Today | CoinGecko',\n",
       "   'url': 'https://www.coingecko.com/en/coins/bitcoin',\n",
       "   'content': 'Bitcoin Bitcoin Price Chart (BTC) bitcoin About Bitcoin (BTC) To learn more about Bitcoin (BTC), you may: The trading volume of Bitcoin (BTC) is $68,705,473,036.07 in the last 24 hours, representing a 44.60% increase from one day ago and signalling a recent rise in market activity. What is the all-time high for Bitcoin (BTC)? What is the all-time low for Bitcoin (BTC)? What is the market cap of Bitcoin (BTC)? With a price increase of 6.00% in the last 7 days, Bitcoin (BTC) is outperforming the global cryptocurrency market which is up 4.40%. Bitcoin (BTC) price has increased today. The price of Bitcoin (BTC) is BTC1.0000 today with a 24-hour trading volume of $68,705,473,036.07. Bitcoin',\n",
       "   'score': 0.90289277,\n",
       "   'raw_content': None},\n",
       "  {'title': 'Bitcoin Price | BTC Price, Charts | Crypto.com',\n",
       "   'url': 'https://crypto.com/price/bitcoin',\n",
       "   'content': 'BTC Price Statistics\\nBitcoin Price\\n$43,009.82\\n24h high / 24h low\\nN/A\\n7d high / 7d low\\nN/A\\n30d high / 30d low\\nN/A\\n90d high / 90d low\\nN/A\\nTrending\\nCurrency Converter\\nAmount\\nBTC\\nUSD\\nFiat Currency\\nUSD\\nUnited States Dollar\\nAUD\\nAustralian Dollar\\nBRL\\nBrazilian Real\\nCAD\\nCanadian Dollar\\nEUR\\nEuro\\nGBP\\nPound Sterling\\nHKD\\nHong Kong Dollar\\nRUB\\nRussian Ruble\\nSGD\\nSingapore dollar\\nTWD\\nNew Taiwan dollar\\nKRW\\nKorean Won\\nCryptocurrency\\nBTC\\nBitcoin\\nCRO\\nCronos\\nETH\\nEthereum\\nSOL\\nSolana\\n1 BTC = 43,009.82\\xa0USD\\nRate is for reference only. -1.29%\\nAll Prices\\nBitcoin Price\\nBitcoin\\nBTC\\nAdd to Watchlist\\nShare\\nDownload\\n$43,009.82 USD\\nN/A\\n(24H)\\n1.00 BTC\\n+0.00%\\n(24H)\\nBitcoin Price Chart (USD)\\nLoading...\\nMarket Cap (USD)\\n$842.21 B\\n24H VOLUME (USD)\\n$30.6 B\\nCirculating Supply\\n19.58 M BTC\\nMax Supply\\n21 M BTC\\nTotal Supply\\n19.58 M BTC\\nHow does the market feel about Bitcoin today?\\n Updated\\nBuy BTC\\nBTC Price Statistics\\nBitcoin Price\\n$43,009.82\\n24h high / 24h low\\nN/A\\n7d high / 7d low\\nN/A\\n30d high / 30d low\\nN/A\\n90d high / 90d low\\nN/A\\nTrending\\nCompany\\nAbout\\nResources\\nSite Widgets\\nTelegram Bot\\nMarket Data API\\nSupport\\nHelp Center\\nChange Request Form\\nCopyright © 2018 - 2023 Crypto.com. Vote to see results\\nAbout Bitcoin\\nBitcoin Price Summaries\\nBitcoin’s price today is US$43,009.82, with a 24-hour trading volume of $30.6 B. BTC is +0.00% in the last 24 hours. More about Bitcoin\\nWhere can you buy Bitcoin?\\nSign up for an account in minutes to buy crypto using credit card or bank transfer.\\n',\n",
       "   'score': 0.90018827,\n",
       "   'raw_content': None},\n",
       "  {'title': 'Bitcoin Price | BTC to USD Converter, Chart and News',\n",
       "   'url': 'https://www.binance.com/en/price/bitcoin',\n",
       "   'content': 'Buy and sell on the Spot market with advanced tools\\nIncrease your profits with leverage\\nBuy & sell cryptocurrencies using bank transfer and 800+ options\\nThe easiest way to trade at all sizes\\nTrade smarter with our various automated strategies - easy, fast and reliable\\nFollow the most popular traders\\nUnlimited opportunities with one key\\nContracts settled in USDT\\nContracts settled in cryptocurrency\\nUSDT Options with limited downside and affordable entry\\nStay informed with everything crypto\\nEarn crypto by learning about blockchain\\nExpand your knowledge and get the latest insights\\nInstitutional-grade analysis, in-depth insights, and more\\nYour trusted digital asset platform for VIPs and institutions\\nDiscover and gain access to new token launches\\nMine more rewards by connecting to the pool\\nSend, receive and spend crypto\\nGet an instant loan secured by crypto assets\\nExplore NFTs from creators worldwide\\nDiscover an all-new fandom and unlock unlimited fan experiences\\nMeet the next-generation Web3 wallet\\nThe most popular blockchain to build your own dApp\\nBlockchain empowers charity to be more transparent, efficient, and traceable\\nBitcoin Price(BTC)\\nPrice of BTC today\\nBTC Price Information\\nBTC Market Information\\nAbout Bitcoin (BTC)\\n Here are two ways to store your Bitcoin:\\nStore your BTC on Binance exchange\\nIf you are looking for quick access to your BTC to facilitate trading, you can consider storing your Bitcoin on the Binance exchange.\\n How to Earn Bitcoin?\\nUse Binance Earn for a principal guaranteed approach to earn the same number of Bitcoins deposited to Savings and Staking returned to you along with yields paid out in the same type of token. And as the world’s largest crypto exchange, trusted by millions of users, we offer you some of the 4 ways you can sell your Bitcoin into cash at the rate that’s most favorable to you.\\n BTC to Local Currency\\nVideo Section\\nCommunity\\nAbout Us\\nProducts\\nBusiness\\nLearn\\nService\\nSupport',\n",
       "   'score': 0.6307082,\n",
       "   'raw_content': None},\n",
       "  {'title': 'Bitcoin Price ( BTC ) - Coinbase',\n",
       "   'url': 'https://www.coinbase.com/price/bitcoin',\n",
       "   'content': \"Ethereum\\nTether\\nBNB\\nXRP\\nUSDC\\nSolana\\nLido Staked ETH\\nCardano\\nDogecoin\\nTRON\\nWrapped TRON\\nToncoin\\nAdvanced trading pairs\\nHere is a selection of advanced trading pairs that people watch and convert\\nCBETH-ETH\\n1 cbETH equals 1.05458 ETH\\nSOL-ETH\\n1 SOL equals 0.02762 ETH\\nLINK-ETH\\n1 LINK equals 0.007162 ETH\\nTRB-BTC\\n1 TRB equals 0.000348 BTC\\nWBTC-BTC\\n1 WBTC equals 0.9991 BTC\\nXRP-BTC\\n1 XRP equals 0.000008 BTC\\nBTC-USDC\\n1 BTC equals 19,689.00 USDC\\nETH-USDC\\n1 ETH equals 1,079.00 USDC\\nUSDT-USDC\\n1 USDT equals 1.0005 USDC\\nBTC-USDT\\n1 BTC equals 37,486.82 USDT\\nASM-USDT\\n1 ASM equals 0.00994 USDT\\nETH-USDT\\n1 ETH equals 2,066.19 USDT\\nSocial\\nSome highlights about Bitcoin on social media\\n149,356 unique individuals are talking about Bitcoin and it is ranked #1 in most mentions and activity from collected posts. Powered by LunarCrush\\nOverview\\nContributors\\n149,356 people\\nPosts\\n276,525 posts\\nDominance\\n18.63%\\nVolume rank\\n#1\\nNews Articles\\n112\\nTwitter\\nTweet Count\\n270,680 people\\nSentiment\\n55.93%\\nBullish\\n38.15%\\nNeutral\\n5.92%\\nBearish\\nReddit\\nPosts\\n148\\nPost Score\\n1,594,441\\nBitcoin Calculator\\nConversion Table\\nBTC/USD (United States Dollar)\\n$37,503.74\\nBTC/CAD (Canadian Dollar)\\nCA$51,030.80\\nBTC/GBP (British Pound)\\n View crypto prices and charts\\nBuild your web3 presence today\\nDive into the world of dapps\\nGuides and explainers for your crypto questions\\nBuy, sell and use crypto\\nBuy, sell and use crypto\\nThe best self-hosted crypto wallet\\nEarn rewards on your crypto\\nSpend crypto, earn crypto rewards\\nFor trusts, family offices, UHNWIs\\nBorrow cash using Bitcoin as collateral\\nEarn crypto, win crypto\\nLearn and earn crypto\\nCreate, collect, connect\\nGet more out of crypto\\nBuy, sell, and spend crypto on the world's most trusted crypto exchange\\nSolutions for institutional investors\\nThe prime brokerage platform\\n £29,764.15\\nBTC/JPY (Japanese Yen)\\n¥5,608,923.00\\nBTC/INR (Indian Rupee)\\n₹3,125,001.75\\nBTC/BRL (Real)\\nR$183,877.69\\nBTC/EUR (Euro)\\n€34,306.93\\nBTC/NGN (Nigerian Naira)\\nNGN\\xa030,305,506.54\\nBTC/KRW (South Korean Won)\\n₩49,004,326.86\\nBTC/SGD (Singapore Dollar)\\nS$50,259.26\\nView more\\nGuides\\nCoinbase\\nHow to Buy Bitcoin\\nGood news! Accept crypto from anyone\\nList your asset on Coinbase\\nDirect access to our exchange\\nTrade an accessible futures market\\nDirect access to our international exchange\\nCrypto solutions for institutional investors, family offices, and businesses\\nDeveloper tools and APIs\\nA secure fiat-to-crypto solution\\nOnboard your users to web3\\nLink dapps to Coinbase Wallet\\nAccept crypto payments from customers\\nStake tokens to earn rewards\\nAn Ethereum L2 to build dapps\\nGet testnet funds\\nTools and APIs for developers building with crypto\\n\",\n",
       "   'score': 0.6301622,\n",
       "   'raw_content': None}],\n",
       " 'response_time': 1.66}"
      ]
     },
     "execution_count": 3,
     "metadata": {},
     "output_type": "execute_result"
    }
   ],
   "source": [
    "from tavily import TavilyClient\n",
    "import os\n",
    "\n",
    "# Initialize the Tavily client with the API key from environment variables\n",
    "client = TavilyClient(api_key=os.environ.get('TAVILY_API_KEY'))\n",
    "\n",
    "# Perform a search query to get the current Bitcoin price\n",
    "response = client.search(query='What is the Bitcoin price today?')\n",
    "\n",
    "# Display the search response\n",
    "response"
   ]
  },
  {
   "cell_type": "code",
   "execution_count": 4,
   "id": "666fc18a-1607-48fd-98ed-035fb6db153b",
   "metadata": {},
   "outputs": [
    {
     "name": "stdout",
     "output_type": "stream",
     "text": [
      "Title: Bitcoin price today, BTC to USD live price, marketcap and chart ..., URL: https://coinmarketcap.com/currencies/bitcoin/\n",
      "Title: Bitcoin Price: BTC Live Price Chart, Market Cap & News Today | CoinGecko, URL: https://www.coingecko.com/en/coins/bitcoin\n",
      "Title: Bitcoin Price | BTC Price, Charts | Crypto.com, URL: https://crypto.com/price/bitcoin\n",
      "Title: Bitcoin Price | BTC to USD Converter, Chart and News, URL: https://www.binance.com/en/price/bitcoin\n",
      "Title: Bitcoin Price ( BTC ) - Coinbase, URL: https://www.coinbase.com/price/bitcoin\n"
     ]
    }
   ],
   "source": [
    "for result in response['results']:\n",
    "    print(f\"Title: {result['title']}, URL: {result['url']}\")"
   ]
  },
  {
   "cell_type": "code",
   "execution_count": 5,
   "id": "3783e0e3-2a54-46e1-8ab7-3259f9d12850",
   "metadata": {},
   "outputs": [],
   "source": [
    "# Perform a search query to find the best programming languages to learn this year\n",
    "response = client.search(\n",
    "    query='What are the best programming languages to learn this year?',\n",
    "    search_depth='advanced',  # Use advanced search depth for more comprehensive results\n",
    "    max_results=7,            # Limit the results to 7\n",
    "    include_images=True,      # Include images in the search results\n",
    "    include_answer=True,      # Include a direct answer in the search results\n",
    "    include_raw_content=False # Exclude raw content from the search results\n",
    ")"
   ]
  },
  {
   "cell_type": "code",
   "execution_count": 6,
   "id": "40577fc4-6ecb-4802-b330-c4208a53625b",
   "metadata": {},
   "outputs": [
    {
     "data": {
      "text/plain": [
       "{'query': 'What are the best programming languages to learn this year?',\n",
       " 'follow_up_questions': None,\n",
       " 'answer': 'Based on the most recent data, the best programming languages to learn in 2025 include Python, JavaScript, Java, C#, C++, PHP, Ruby, Swift, R, and SQL. These languages are highly regarded for their popularity, job demand, versatility, and strong community support. Python stands out for its ease of learning and wide range of applications in data science and software development. JavaScript is essential for web development, while Java remains a top choice for enterprise-level applications and Android development. C# is ideal for .NET and web-based development, and SQL is crucial for database management in web development and data science.',\n",
       " 'images': ['https://distantjob.com/wp-content/uploads/2022/01/Top-Programming-Languages-comparison-table.jpg',\n",
       "  'https://cdn.ttgtmedia.com/rms/onlineImages/app_arch-top_languages-f_mobile.png',\n",
       "  'https://devopscube.com/wp-content/uploads/2022/01/image-7.png',\n",
       "  'https://cloud.fullstackacademy.com/R3-FSA-Graphic-for-9-Best-Programming-Languages-to-Learn-Blog-Post-1154131267065574-table.jpg?mtime=20200122160952',\n",
       "  'https://gowithcode.com/wp-content/uploads/2021/04/top-programming-languages-981x500.jpg'],\n",
       " 'results': [{'title': 'Top 20 Programming Languages to Learn [2025 Updated] - GeeksforGeeks',\n",
       "   'url': 'https://www.geeksforgeeks.org/top-programming-languages/',\n",
       "   'content': 'The best programming languages to learn in 2025 include Python, JavaScript, Java, C#, C++, PHP, Ruby, Swift, R, and SQL. These languages are ranked based on popularity, job demand, versatility, and community support. ... Programming world is growing exponentially with each passing year. There are tons of programming languages one can learn. The',\n",
       "   'score': 0.93511593,\n",
       "   'raw_content': None},\n",
       "  {'title': '9 Best programming languages to learn in 2025 - snappify.com',\n",
       "   'url': 'https://snappify.com/blog/best-programming-languages',\n",
       "   'content': '9 Best programming languages to learn in 2025 9 Best programming languages to learn in 2025 Top 9 Programming Languages to Learn Beginner-Friendly: If you’re new to programming, pick a language with simple syntax that is easy to learn. Supported by Oracle, Java is one of the most commonly used programming languages for enterprise-level applications, Android development, and backend systems. However, it is still a go-to for high-performance application development like gaming, operating systems, and embedded systems. SQL has many applications in web development and data science because almost every application or system relies on databases like PostgreSQL and MySQL for storing and accessing data. Python or JavaScript are the best choices for complete beginners because of their readable syntax and wide range of applications in software development.',\n",
       "   'score': 0.89053273,\n",
       "   'raw_content': None},\n",
       "  {'title': 'The Best Programming Languages to Learn in 2024 - CodingNomads',\n",
       "   'url': 'https://codingnomads.com/blog/the-best-programming-languages-to-learn',\n",
       "   'content': 'If you are interested in breaking into data science or machine learning, or you’d like an easier barrier to entry into general software development and web development, Python is the best programming language to learn for you. A veteran to the list of all-time best programming languages to learn, Java has been neck-and-neck with Python for the #1 spot in global job demand since we started collecting this data in 2017. If you enjoy a good challenge and want to guarantee a successful career as a general software engineer or mobile developer, Java is the best programming language to learn for you. If you’re looking to get into .NET and web-based development, C# would be a great programming language to learn for you.',\n",
       "   'score': 0.8808076,\n",
       "   'raw_content': None},\n",
       "  {'title': '10 Best Programming Languages to Learn in 2025',\n",
       "   'url': 'https://blog.stackademic.com/10-best-programming-languages-to-learn-in-2025-c051d67d34b0',\n",
       "   'content': '10 Best Programming Languages to Learn in 2025 | by Jenny Ouyang | Jan, 2025 | Stackademic 10 Best Programming Languages to Learn in 2025 Discover the most in-demand programming languages of 2025 and find the perfect match for your career goals, whether you’re interested in web development, data science, or enterprise applications. With so many programming languages available, picking the right one matters for your future success. Your choice of programming language will shape what you can build and which jobs you can get. Some languages are better for making websites, while others excel at analyzing data or creating mobile apps. In the following sections, we’ll explore each language in detail, helping you understand which one fits your needs best. Published in Stackademic ------------------------',\n",
       "   'score': 0.81979275,\n",
       "   'raw_content': None},\n",
       "  {'title': 'Top 10 programming languages for 2025 - Pluralsight',\n",
       "   'url': 'https://www.pluralsight.com/resources/blog/upskilling/top-programming-languages-2025',\n",
       "   'content': 'Every year, Pluralsight conducts a meta-study of the most popular programming languages based on the last 12 months of data, so IT professionals can figure out what’s trending right now. Not only has it dominated Pluralsight’s rankings and everyone else’s for the last few years, the fact Python has all the data science and machine learning libraries makes it more relevant than ever in 2025 with so many companies madly rushing to adopt AI. It’s no surprise that JavaScript was one of the most searched-for languages by tech learners on the Pluralsight platform in 2024 given its “popularity.” Pluralsight offers expert-authored Skill IQ tests where you can answer a series of questions about each language and see where you rank against other professionals, as well as beginner-to-expert learning pathways.',\n",
       "   'score': 0.8194462,\n",
       "   'raw_content': None},\n",
       "  {'title': '10 Best Programming Languages to Learn in 2025 - Hostinger',\n",
       "   'url': 'https://www.hostinger.com/tutorials/best-programming-languages-to-learn',\n",
       "   'content': 'Follow her on LinkedIn.\\nRelated tutorials\\n13 Oct •\\nWeb Pro\\n•\\nDigital marketing has become a cornerstone of modern business strategies, and the pricing of such services is a crucial aspect for both clients and...\\n Swift is also easier to write and faster than Objective-C.\\nAs a result, Swift is arguably the best programming language in Apple product development and one of the fastest-growing programming languages available.\\n However,...\\nBy Maisha R.\\n28 Sep •\\nWeb Pro\\n•\\nWhether you’re a web developer, designer, agency, or even a client, keeping track of communication is a big part of the job. The 10 Best Programming Languages to Learn\\nDiscover the most popular and in-demand programming languages with our list of the 10 best options to learn.\\n HTML Cheat Sheet\\nCSS Cheat Sheet\\nWordPress Cheat Sheet\\nConclusion\\nPicking the best programming language to learn highly depends on what suits your needs better.\\n',\n",
       "   'score': 0.78749067,\n",
       "   'raw_content': None},\n",
       "  {'title': 'The 15 Best Programming Languages to Learn in 2025 - Fullstack Academy',\n",
       "   'url': 'https://www.fullstackacademy.com/blog/nine-best-programming-languages-to-learn',\n",
       "   'content': \"Programs Navigation\\nCoding\\nTech Bootcamps\\nCourses Navigation\\nFree Introductory Courses\\nResources Navigation\\nTuition & Dates Navigation\\nWhy Fullstack Navigation\\nAbout Navigation\\nPartner With Us\\nPrograms Navigation\\nCoding\\nTech Bootcamps\\nCourses Navigation\\nFree Introductory Courses\\nResources Navigation\\nTuition & Dates Navigation\\nWhy Fullstack Navigation\\nAbout Navigation\\nPartner With Us\\n06.07.2018\\n Here is a quick summary of the different possibilities we’ve discussed:\\nFront-end web development: JavaScript, TypeScript\\nBack-end web development: JavaScript, TypeScript, Python, Go, Elixir, C#\\nMobile development: Swift, Java, C#\\nGame development: C#\\nDesktop applications: Java, Python, JavaScript, TypeScript\\nSystems programming: C, Rust, Go\\nIt’s Code Time\\n 05.23.2018\\nCouponer\\nRead More\\n06.08.2018\\nLearn JavaScript for Free: 13 Online Resources for Every Level of Expertise\\nRead More\\nReady to break into tech?\\n Programs\\nPrep Courses\\nWhy Fullstack\\nAdmissions & Events\\nAbout Us\\nFullstack Academy HQ\\n147 Prince Street\\nBrooklyn, NY 11201\\n Stack Overflow’s 2023 Developer's Survey found that Rust was the most loved programming language among developers for the eighth year in a row, with 80 percent of Rust developers saying that they want to continue working with it.\\n\",\n",
       "   'score': 0.71040785,\n",
       "   'raw_content': None}],\n",
       " 'response_time': 5.88}"
      ]
     },
     "execution_count": 6,
     "metadata": {},
     "output_type": "execute_result"
    }
   ],
   "source": [
    "response"
   ]
  },
  {
   "cell_type": "code",
   "execution_count": null,
   "id": "15b82401-0bb1-4e54-8b4c-74edf50ad076",
   "metadata": {},
   "outputs": [
    {
     "name": "stdout",
     "output_type": "stream",
     "text": [
      "Valentinebrayan on Instagram has 322 to 340 followers and 619 to 925 following, with a few posts. His profile indicates he is a Computer Engineering student, and he identifies as God's favorite, Prinze_val, with Syrian and Turkish flags. There is no information available regarding his current residence, LinkedIn profile as \"valentine onuoha,\" or GitHub profile \"prinzeval.\"\n"
     ]
    }
   ],
   "source": [
    "answer = client.qna_search(query='Who is valentinebrayan on instragram? and do you know more about him like tracking him down to where he lives right now check his linkendin profile(valentine onuoha) and his https://github.com/prinzeval search is github ')\n",
    "\n",
    "# Print the search answer\n",
    "print(answer)"
   ]
  },
  {
   "cell_type": "markdown",
   "id": "e9deeb91-b650-4407-b594-8e76a94aca83",
   "metadata": {},
   "source": [
    "### Combine Tavily's search capabilities with language models using LangChain and OpenAI"
   ]
  },
  {
   "cell_type": "code",
   "execution_count": null,
   "id": "f7b5e241-6cb3-4e66-8bdb-9d16b1252e95",
   "metadata": {},
   "outputs": [
    {
     "data": {
      "text/plain": [
       "[{'title': 'Flow Engineering and Agentic RAG with LangGraph | Databricks',\n",
       "  'url': 'https://www.databricks.com/dataaisummit/session/flow-engineering-and-agentic-rag-langgraph',\n",
       "  'content': \"Retrieval Augmented Generation (RAG) applications are one of the fastest ways to deliver value with GenAI to your organization. In this talk, we'll build an advanced RAG agent using LangChain's flow engineering framework, LangGraph. We'll show how LangGraph can be used to build reliable RAG agents that follow a user-defined control flow every time they are run.\",\n",
       "  'score': 0.87807417,\n",
       "  'raw_content': None},\n",
       " {'title': 'Exploring AI Automation: Agentic Workflows with LangGraph and ... - Medium',\n",
       "  'url': 'https://medium.com/@LakshmiNarayana_U/exploring-ai-automation-agentic-workflows-with-langgraph-and-tavily-155f5442a999',\n",
       "  'content': \"Prominent Features\\nLangGraph Concepts Overview\\nNodes\\nEdges\\nState Management\\nPersistence\\nThreads\\nConfiguration\\nAgentic workflows with LangGraph\\nMulti Agent Flow\\nSupervisor Agent Flow\\nFlow Engineering\\nPlan and Execute\\nFor a deep dive into LangGraph, do check out this excellent course at deeplearning.ai, from the founders of LangChain and Tavily.\\n Sign up\\nSign in\\nSign up\\nSign in\\nExploring AI Automation: Agentic Workflows with LangGraph and Tavily\\nLakshmi narayana .U\\nFollow\\n--\\nListen\\nShare\\nAI Agents and Agentic Overflows\\nAgents, in the context of AI and machine learning, are programs that can learn, perceive their environment, and make decisions to achieve certain goals. Author- 'Directing Business' | AI,ML Enthusiast\\nHelp\\nStatus\\nAbout\\nCareers\\nPress\\nBlog\\nPrivacy\\nTerms\\nText to speech\\nTeams Using Neo4j and Langchain for Knowledge Graph Creation: A Detailed Guide\\nThe Power and Potential of Knowledge Graphs in AI and Data Management\\nblog.stackademic.com\\nReferences\\n--\\n--\\nWritten by Lakshmi narayana .U\\n Using Autogen for Effective Multi-Agent Collaboration\\nDesign Patterns for Building AI Agents: Reflection, Tool Use, Planning, and Multi-Agent Collaboration\\nmedium.com\\nLangGraph from LangChain\\nLangChain, a popular open source framework for building LLM applications, recently introduced LangGraph.\",\n",
       "  'score': 0.7161595,\n",
       "  'raw_content': None},\n",
       " {'title': 'Exploring AI Agent Frameworks: What is \"Flow Engineering?\"',\n",
       "  'url': 'https://www.expectedx.com/expected-x-ai-blog/exploring-ai-agents-flow-engineering',\n",
       "  'content': 'Flow Engineering Evaluation. Developing agentic AI systems using the tenets of flow engineering requires evaluation, not unlike that found in machine learning development: How well does our system perform on a given task/goal? This is obviously specific to the given application, but when possible, utilize quantitative metrics.',\n",
       "  'score': 0.67527276,\n",
       "  'raw_content': None},\n",
       " {'title': 'Decode How to Build Agentic AI Applications using LangGraph',\n",
       "  'url': 'https://datasciencedojo.com/newsletter/agentic-ai-langgraph/',\n",
       "  'content': 'Decode How to Build Agentic AI Applications using LangGraph We offer online and in-person learning programs in analytics, data science and AI. agentic ai, langgraph Building Agentic AI Applications using LangGraph – A Detailed Guide Welcome to Data Science Dojo’s weekly AI newsletter, “The Data-Driven Dispatch“. There are quite a lot of agentic frameworks that can leveraged to build AI agentic applications, but LangGraph stands out because of its ease of use, and how it allows one to build iterative, decision-based flows that advanced AI agentic frameworks often require. Read more: LangGraph: Revolutionizing AI Agent Workflows agentic ai, langgraph Subscribe to get the latest updates on AI, Data Science, LLMs, and Machine Learning.',\n",
       "  'score': 0.6108487,\n",
       "  'raw_content': None},\n",
       " {'title': 'Understanding Agentic Concepts with LangChain and LangGraph',\n",
       "  'url': 'https://medium.com/@pankaj_pandey/understanding-agentic-concepts-with-langchain-and-langgraph-a63c2a0c440a',\n",
       "  'content': 'LangGraph, a powerful tool for orchestrating agentic systems, allows developers to create, manage and optimize complex workflows involving Large Language Models (LLMs). Specifying the Method for Structuring Outputs: Some models support both tool calling and JSON mode, allowing you to choose the method. Prerequisites: Familiarity with chat models, LangChain tools, tool calling and output parsers. a) Tool calling allows a chat model to generate structured output by providing arguments for a tool. LangChain using LangGraph offers a robust framework for building and managing agentic systems, addressing various challenges through structured outputs, tool calling, memory management, human-in-the-loop interactions, map-reduce operations, multi-agent architectures, planning, reflection and the ReAct agent architecture.',\n",
       "  'score': 0.51032627,\n",
       "  'raw_content': None}]"
      ]
     },
     "execution_count": 16,
     "metadata": {},
     "output_type": "execute_result"
    }
   ],
   "source": [
    "# Import necessary functions and classes\n",
    "from langchain.adapters.openai import convert_openai_messages\n",
    "from langchain_openai import ChatOpenAI\n",
    "\n",
    "# Define the query to search for\n",
    "query = 'What is Flow Engineering used in agentic applications and LangGraph?'\n",
    "\n",
    "# Perform a search query using the Tavily client\n",
    "response = client.search(query, max_results=5, search_depth='Advanced')['results']\n",
    "\n",
    "# Display the search response\n",
    "response"
   ]
  },
  {
   "cell_type": "code",
   "execution_count": 17,
   "id": "2b90612e-34c7-402f-8fef-30f0498147c4",
   "metadata": {},
   "outputs": [
    {
     "data": {
      "text/plain": [
       "[SystemMessage(content='\\n        You are an AI critical thinker research assistant.\\n        Your sole purpose is to write well written, objective and structured reports on given text.\\n        ', additional_kwargs={}, response_metadata={}),\n",
       " HumanMessage(content='Information: \"\"\"[{\\'title\\': \\'Flow Engineering and Agentic RAG with LangGraph | Databricks\\', \\'url\\': \\'https://www.databricks.com/dataaisummit/session/flow-engineering-and-agentic-rag-langgraph\\', \\'content\\': \"Retrieval Augmented Generation (RAG) applications are one of the fastest ways to deliver value with GenAI to your organization. In this talk, we\\'ll build an advanced RAG agent using LangChain\\'s flow engineering framework, LangGraph. We\\'ll show how LangGraph can be used to build reliable RAG agents that follow a user-defined control flow every time they are run.\", \\'score\\': 0.87807417, \\'raw_content\\': None}, {\\'title\\': \\'Exploring AI Automation: Agentic Workflows with LangGraph and ... - Medium\\', \\'url\\': \\'https://medium.com/@LakshmiNarayana_U/exploring-ai-automation-agentic-workflows-with-langgraph-and-tavily-155f5442a999\\', \\'content\\': \"Prominent Features\\\\nLangGraph Concepts Overview\\\\nNodes\\\\nEdges\\\\nState Management\\\\nPersistence\\\\nThreads\\\\nConfiguration\\\\nAgentic workflows with LangGraph\\\\nMulti Agent Flow\\\\nSupervisor Agent Flow\\\\nFlow Engineering\\\\nPlan and Execute\\\\nFor a deep dive into LangGraph, do check out this excellent course at deeplearning.ai, from the founders of LangChain and Tavily.\\\\n Sign up\\\\nSign in\\\\nSign up\\\\nSign in\\\\nExploring AI Automation: Agentic Workflows with LangGraph and Tavily\\\\nLakshmi narayana .U\\\\nFollow\\\\n--\\\\nListen\\\\nShare\\\\nAI Agents and Agentic Overflows\\\\nAgents, in the context of AI and machine learning, are programs that can learn, perceive their environment, and make decisions to achieve certain goals. Author- \\'Directing Business\\' | AI,ML Enthusiast\\\\nHelp\\\\nStatus\\\\nAbout\\\\nCareers\\\\nPress\\\\nBlog\\\\nPrivacy\\\\nTerms\\\\nText to speech\\\\nTeams Using Neo4j and Langchain for Knowledge Graph Creation: A Detailed Guide\\\\nThe Power and Potential of Knowledge Graphs in AI and Data Management\\\\nblog.stackademic.com\\\\nReferences\\\\n--\\\\n--\\\\nWritten by Lakshmi narayana .U\\\\n Using Autogen for Effective Multi-Agent Collaboration\\\\nDesign Patterns for Building AI Agents: Reflection, Tool Use, Planning, and Multi-Agent Collaboration\\\\nmedium.com\\\\nLangGraph from LangChain\\\\nLangChain, a popular open source framework for building LLM applications, recently introduced LangGraph.\", \\'score\\': 0.7161595, \\'raw_content\\': None}, {\\'title\\': \\'Exploring AI Agent Frameworks: What is \"Flow Engineering?\"\\', \\'url\\': \\'https://www.expectedx.com/expected-x-ai-blog/exploring-ai-agents-flow-engineering\\', \\'content\\': \\'Flow Engineering Evaluation. Developing agentic AI systems using the tenets of flow engineering requires evaluation, not unlike that found in machine learning development: How well does our system perform on a given task/goal? This is obviously specific to the given application, but when possible, utilize quantitative metrics.\\', \\'score\\': 0.67527276, \\'raw_content\\': None}, {\\'title\\': \\'Decode How to Build Agentic AI Applications using LangGraph\\', \\'url\\': \\'https://datasciencedojo.com/newsletter/agentic-ai-langgraph/\\', \\'content\\': \\'Decode How to Build Agentic AI Applications using LangGraph We offer online and in-person learning programs in analytics, data science and AI. agentic ai, langgraph Building Agentic AI Applications using LangGraph – A Detailed Guide Welcome to Data Science Dojo’s weekly AI newsletter, “The Data-Driven Dispatch“. There are quite a lot of agentic frameworks that can leveraged to build AI agentic applications, but LangGraph stands out because of its ease of use, and how it allows one to build iterative, decision-based flows that advanced AI agentic frameworks often require. Read more: LangGraph: Revolutionizing AI Agent Workflows agentic ai, langgraph Subscribe to get the latest updates on AI, Data Science, LLMs, and Machine Learning.\\', \\'score\\': 0.6108487, \\'raw_content\\': None}, {\\'title\\': \\'Understanding Agentic Concepts with LangChain and LangGraph\\', \\'url\\': \\'https://medium.com/@pankaj_pandey/understanding-agentic-concepts-with-langchain-and-langgraph-a63c2a0c440a\\', \\'content\\': \\'LangGraph, a powerful tool for orchestrating agentic systems, allows developers to create, manage and optimize complex workflows involving Large Language Models (LLMs). Specifying the Method for Structuring Outputs: Some models support both tool calling and JSON mode, allowing you to choose the method. Prerequisites: Familiarity with chat models, LangChain tools, tool calling and output parsers. a) Tool calling allows a chat model to generate structured output by providing arguments for a tool. LangChain using LangGraph offers a robust framework for building and managing agentic systems, addressing various challenges through structured outputs, tool calling, memory management, human-in-the-loop interactions, map-reduce operations, multi-agent architectures, planning, reflection and the ReAct agent architecture.\\', \\'score\\': 0.51032627, \\'raw_content\\': None}]\"\"\"\\n        Using the above information, answer the following query: \"\"\"What is Flow Engineering used in agentic applications and LangGraph?\"\"\" in a detailed report.\\n        Finish the report with a section for references including URLs\\n        ', additional_kwargs={}, response_metadata={})]"
      ]
     },
     "execution_count": 17,
     "metadata": {},
     "output_type": "execute_result"
    }
   ],
   "source": [
    "# Setting up the OpenAI API Prompt\n",
    "prompt = [\n",
    "    {\n",
    "        'role': 'system',\n",
    "        'content': '''\n",
    "        You are an AI critical thinker research assistant.\n",
    "        Your sole purpose is to write well written, objective and structured reports on given text.\n",
    "        '''\n",
    "    },\n",
    "    {\n",
    "        'role': 'user',\n",
    "        'content': f'''Information: \"\"\"{response}\"\"\"\n",
    "        Using the above information, answer the following query: \"\"\"{query}\"\"\" in a detailed report.\n",
    "        Finish the report with a section for references including URLs\n",
    "        '''\n",
    "    }\n",
    "]\n",
    "\n",
    "# Convert the prompt to OpenAI messages format\n",
    "lc_messages = convert_openai_messages(prompt)\n",
    "\n",
    "# Display the converted messages\n",
    "lc_messages"
   ]
  },
  {
   "cell_type": "code",
   "execution_count": null,
   "id": "8ba9ee45-1afc-4fc3-80d3-260da3faa659",
   "metadata": {},
   "outputs": [
    {
     "name": "stdout",
     "output_type": "stream",
     "text": [
      "# Report on Flow Engineering in Agentic Applications and LangGraph\n",
      "\n",
      "## Introduction\n",
      "Flow engineering is a crucial concept in the development of agentic applications, particularly within the context of artificial intelligence (AI) and machine learning. This report explores the integration of flow engineering with LangGraph, a framework that facilitates the design and implementation of agentic workflows. By leveraging flow engineering, developers can build applications that are capable of making decisions, learning, and adapting to their environments.\n",
      "\n",
      "## What is Flow Engineering?\n",
      "Flow engineering encompasses the design of structured sequences of operations or decision-making steps that an AI agent follows to achieve specific goals. In the realm of agentic applications, flow engineering aids in orchestrating multiple actions or functions, allowing agents to interact with their environment in meaningful ways. This systematic approach allows developers to define the control flow of their AI systems, ensuring consistent and predictable behavior.\n",
      "\n",
      "### Key Characteristics of Flow Engineering:\n",
      "1. **Control Flow**: Establishes how an agent transitions between different states or actions based on predefined conditions.\n",
      "2. **Decision Making**: Integrates mechanisms for agents to evaluate situations and choose among multiple options.\n",
      "3. **State Management**: Maintains and manages the current state of an agent, ensuring accurate tracking of progress and context.\n",
      "4. **Persistence**: Provides capability for agents to retain information across sessions or interactions, allowing for more personalized and context-aware responses.\n",
      "\n",
      "## LangGraph and Flow Engineering\n",
      "LangGraph is an advanced framework developed as part of the LangChain project. It enables the construction of agentic applications by applying the principles of flow engineering. By utilizing LangGraph, developers can create complex workflows involving Large Language Models (LLMs) and facilitate advanced decision-making processes.\n",
      "\n",
      "### Features and Benefits of LangGraph:\n",
      "- **Structured Workflows**: LangGraph provides tools that allow developers to design and implement structured workflows with clear node and edge definitions, encapsulating processes within a graph-like model.\n",
      "- **Multi-Agent Support**: It supports the design of multi-agent flows where multiple agents can interact and collaborate on tasks efficiently, relying on shared context and mutual coordination.\n",
      "- **Simplified Development**: LangGraph is designed for ease of use, enabling developers to create applications more iteratively and with less friction.\n",
      "- **Optimized Outputs**: Through mechanisms such as tool calling and memory management, LangGraph ensures that agents can generate structured outputs and handle complex interactions effectively.\n",
      "\n",
      "## Applications of Flow Engineering with LangGraph\n",
      "1. **Retrieval Augmented Generation (RAG)**: By implementing a flow engineering approach, LangGraph enables the development of advanced RAG agents. These agents can retrieve information from various sources and generate responses based on the retrieved data, enhancing the value delivered by Generative AI (GenAI) to organizations.\n",
      "2. **Agentic Workflows**: LangGraph can create multi-agent workflows where different agents collaborate or supervise each other, facilitating a more dynamic and responsive interaction model compared to traditional linear processes.\n",
      "3. **Adaptive Learning**: Systems utilizing flow engineering can adapt their behaviors based on ongoing evaluations of their performance, allowing agents to learn and improve over time.\n",
      "\n",
      "## Conclusion\n",
      "Flow engineering serves as a foundational element in the development of agentic applications, providing the structure necessary for agents to function effectively within their environments. LangGraph amplifies the capabilities of flow engineering, enabling developers to build sophisticated, iterative, and adaptable AI workflows. The synergy between flow engineering and LangGraph positions organizations to harness the full potential of AI in achieving their operational objectives.\n",
      "\n",
      "## References\n",
      "1. [Flow Engineering and Agentic RAG with LangGraph | Databricks](https://www.databricks.com/dataaisummit/session/flow-engineering-and-agentic-rag-langgraph)\n",
      "2. [Exploring AI Automation: Agentic Workflows with LangGraph and Tavily - Medium](https://medium.com/@LakshmiNarayana_U/exploring-ai-automation-agentic-workflows-with-langgraph-and-tavily-155f5442a999)\n",
      "3. [Exploring AI Agent Frameworks: What is \"Flow Engineering?\" | Expected X](https://www.expectedx.com/expected-x-ai-blog/exploring-ai-agents-flow-engineering)\n",
      "4. [Decode How to Build Agentic AI Applications using LangGraph | Data Science Dojo](https://datasciencedojo.com/newsletter/agentic-ai-langgraph/)\n",
      "5. [Understanding Agentic Concepts with LangChain and LangGraph - Medium](https://medium.com/@pankaj_pandey/understanding-agentic-concepts-with-langchain-and-langgraph-a63c2a0c440a)\n"
     ]
    }
   ],
   "source": [
    "# Invoke the ChatOpenAI model with the prepared messages\n",
    "response = ChatOpenAI(model='gpt-4o-mini').invoke(lc_messages)\n",
    "\n",
    "# Print the content of the response\n",
    "print(response.content)"
   ]
  },
  {
   "cell_type": "markdown",
   "id": "01789949-9bf0-4239-a932-72289dd4c4a4",
   "metadata": {},
   "source": [
    "### LangGraph AI Research Agent Using Tavily Search"
   ]
  },
  {
   "cell_type": "code",
   "execution_count": 19,
   "id": "8c286f73-5e9d-4b8f-bc31-6ccfbcd3ddbb",
   "metadata": {},
   "outputs": [],
   "source": [
    "from langgraph.checkpoint.memory import MemorySaver\n",
    "\n",
    "# Initialize a MemorySaver instance to be used as a checkpointer for the state graph\n",
    "memory = MemorySaver()"
   ]
  },
  {
   "cell_type": "code",
   "execution_count": 20,
   "id": "c8aaf7c3-61e1-4319-89f2-ffb0c73834f5",
   "metadata": {},
   "outputs": [],
   "source": [
    "from typing import Annotated\n",
    "\n",
    "from langchain_community.tools.tavily_search import TavilySearchResults\n",
    "from langchain_core.messages import BaseMessage\n",
    "from typing_extensions import TypedDict\n",
    "\n",
    "from langgraph.graph import StateGraph, START, END\n",
    "from langgraph.graph.message import add_messages\n",
    "from langgraph.prebuilt import ToolNode, tools_condition\n",
    "\n",
    "# Define a TypedDict for the state with a list of messages\n",
    "class State(TypedDict):\n",
    "    messages: Annotated[list, add_messages]\n",
    "\n",
    "# Initialize a StateGraph with the defined State\n",
    "graph_builder = StateGraph(State)\n",
    "\n",
    "# Initialize the TavilySearchResults tool with a maximum of 2 results\n",
    "tool = TavilySearchResults(max_results=2)\n",
    "tools = [tool]\n",
    "\n",
    "# Initialize the ChatOpenAI model with specified parameters\n",
    "llm = ChatOpenAI(model_name='gpt-4o-mini', temperature=0.7)\n",
    "\n",
    "# Bind the tools to the language model\n",
    "llm_with_tools = llm.bind_tools(tools)\n",
    "\n",
    "# Define a chatbot function that invokes the language model with tools\n",
    "def chatbot(state: State):\n",
    "    return {\"messages\": [llm_with_tools.invoke(state[\"messages\"])]}\n",
    "\n",
    "# Add the chatbot node to the graph\n",
    "graph_builder.add_node(\"chatbot\", chatbot)\n",
    "\n",
    "# Create a ToolNode with the defined tools and add it to the graph\n",
    "tool_node = ToolNode(tools=[tool])\n",
    "graph_builder.add_node(\"tools\", tool_node)\n",
    "\n",
    "# Add conditional edges based on tools_condition\n",
    "graph_builder.add_conditional_edges(\n",
    "    \"chatbot\",\n",
    "    tools_condition,\n",
    ")\n",
    "\n",
    "# Add edges between nodes to define the flow\n",
    "graph_builder.add_edge(\"tools\", \"chatbot\")\n",
    "graph_builder.add_edge(START, \"chatbot\")\n",
    "\n",
    "# Compile the graph with a checkpointer for state management\n",
    "graph = graph_builder.compile(checkpointer=memory)"
   ]
  },
  {
   "cell_type": "code",
   "execution_count": 21,
   "id": "debf0a7b-7639-48ed-acd6-e72c6bec2fbb",
   "metadata": {},
   "outputs": [
    {
     "data": {
      "image/png": "[encoded data removed]",
      "text/plain": [
       "<IPython.core.display.Image object>"
      ]
     },
     "metadata": {},
     "output_type": "display_data"
    }
   ],
   "source": [
    "from IPython.display import Image, display\n",
    "\n",
    "try:\n",
    "    display(Image(graph.get_graph().draw_mermaid_png()))\n",
    "except Exception:\n",
    "    pass"
   ]
  },
  {
   "cell_type": "code",
   "execution_count": null,
   "id": "eaf59e66-643a-4e2d-a960-94679a5d3d6f",
   "metadata": {},
   "outputs": [
    {
     "name": "stdout",
     "output_type": "stream",
     "text": [
      "AI: hi\n",
      "AI: Hello! How can I assist you today?\n",
      "AI: how are you doing  ?\n",
      "AI: I'm just a computer program, so I don't have feelings, but I'm here and ready to help you! What do you need assistance with today?\n",
      "AI: name 5 rules trump passed this year \n",
      "AI: \n",
      "AI: [{\"url\": \"https://natlawreview.com/article/ira-update-recent-regulations-potentially-risk-second-trump-administration\", \"content\": \"The Trump administration's regulatory freeze could delay or nullify key renewable energy rules, including those tied to the Inflation Reduction Act\"}, {\"url\": \"https://technologymagazine.com/articles/trump-scraps-ai-risk-rules-what-you-need-to-know\", \"content\": \"What does Trump’s revoking of Biden’s AI safety order mean for global tech? Trump's revocation of Biden's AI executive order shifts US tech policies, prioritising innovation over regulation as the AI race intensifies globally This policy shift is happening when Gen AI capabilities are rapidly advancing and the global race for AI supremacy is intensifying and the timing is particularly significant as other nations are working to establish their own regulations for this transformative technology. Ned Finkle, Vice President of government affairs at Nvidia said in a blogpost: “Built on American technology, the adoption of AI around the world fuels growth and opportunity for industries at home and abroad.\"}]\n",
      "AI: Here are two significant actions taken by Trump in 2023:\n",
      "\n",
      "1. **Revocation of AI Safety Rules**: Trump scrapped Biden’s executive order on AI safety, shifting U.S. tech policies to prioritize innovation over regulation. This move is seen as a response to the rapidly advancing capabilities of generative AI and aims to enhance the U.S.'s competitive edge in the global tech landscape.\n",
      "\n",
      "2. **Regulatory Freeze Impacting Renewable Energy**: The Trump administration's regulatory freeze could potentially delay or nullify key renewable energy rules associated with the Inflation Reduction Act, which may affect various environmental and energy policies.\n",
      "\n",
      "Unfortunately, I couldn't find three more specific rules passed this year. If you have a particular area of interest or another topic in mind, feel free to let me know!\n",
      "AI: my name is valentine \n",
      "AI: Nice to meet you, Valentine! How can I assist you today?\n",
      "AI: what is my name ?\n",
      "AI: Your name is Valentine. How can I help you further?\n",
      "AI: how many questions have i asked you so far ?\n",
      "AI: You have asked me six questions so far. If you have more questions or need assistance with something else, feel free to ask!\n",
      "AI: bye\n",
      "AI: Goodbye, Valentine! If you have more questions in the future, feel free to ask. Have a great day!\n",
      "AI: Goodbye!\n",
      "Conversation ended.\n"
     ]
    }
   ],
   "source": [
    "# Configuration dictionary for the graph\n",
    "config = {\"configurable\": {\"thread_id\": \"1\"}}\n",
    "\n",
    "# Infinite loop to interact with the user\n",
    "while True:\n",
    "    # Get user input\n",
    "    user_input = input(\"You: \")\n",
    "    \n",
    "    # Check if the user wants to exit the conversation\n",
    "    if user_input.lower() == 'exit':\n",
    "        print(\"AI: Goodbye!\")\n",
    "        break\n",
    "\n",
    "    # Stream events from the graph based on user input\n",
    "    events = graph.stream(\n",
    "        {\"messages\": [(\"user\", user_input)]}, config, stream_mode=\"values\"\n",
    "    )\n",
    "    \n",
    "    # Process each event and print the AI response\n",
    "    for event in events:\n",
    "        ai_response = event[\"messages\"][-1].content\n",
    "        print(f\"AI: {ai_response}\")\n",
    "\n",
    "# Print a message indicating the conversation has ended\n",
    "print(\"Conversation ended.\")"
   ]
  }
 ],
 "metadata": {
  "kernelspec": {
   "display_name": "Python 3",
   "language": "python",
   "name": "python3"
  },
  "language_info": {
   "codemirror_mode": {
    "name": "ipython",
    "version": 3
   },
   "file_extension": ".py",
   "mimetype": "text/x-python",
   "name": "python",
   "nbconvert_exporter": "python",
   "pygments_lexer": "ipython3",
   "version": "3.12.8"
  }
 },
 "nbformat": 4,
 "nbformat_minor": 5
}
