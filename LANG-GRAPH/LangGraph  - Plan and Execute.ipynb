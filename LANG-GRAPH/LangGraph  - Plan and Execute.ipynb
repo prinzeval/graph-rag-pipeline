{
 "cells": [
  {
   "cell_type": "markdown",
   "id": "715eb283-a30b-46fe-ac7b-23b9fc3473d4",
   "metadata": {},
   "source": [
    "# Plan-and-Execute"
   ]
  },
  {
   "cell_type": "code",
   "execution_count": 3,
   "id": "4c3a5f24-6c2a-48a1-b8c9-e546512d30e8",
   "metadata": {},
   "outputs": [],
   "source": [
    "%%capture --no-stderr\n",
    "%pip install --quiet -U langgraph langchain-community langchain-openai tavily-python"
   ]
  },
  {
   "cell_type": "code",
   "execution_count": 5,
   "id": "636e83f4-a320-4903-9666-dc274e12c10c",
   "metadata": {},
   "outputs": [
    {
     "name": "stdout",
     "output_type": "stream",
     "text": [
      "API Key Loaded True\n"
     ]
    }
   ],
   "source": [
    "import os\n",
    "from dotenv import load_dotenv, find_dotenv\n",
    "load_dotenv(find_dotenv(), override=True)\n",
    "\n",
    "os.environ.get('OPENAI_API_KEY')\n",
    "\n",
    "print(\"API Key Loaded\", os.environ.get('OPENAI_API_KEY') is not None)"
   ]
  },
  {
   "cell_type": "markdown",
   "id": "3521744e-27c9-486c-941b-620ea3eeb9ba",
   "metadata": {},
   "source": [
    "### Define Tools"
   ]
  },
  {
   "cell_type": "markdown",
   "id": "d462599e-9d83-4cbd-8501-220340142194",
   "metadata": {},
   "source": [
    "### Currency Converter"
   ]
  },
  {
   "cell_type": "code",
   "execution_count": 191,
   "id": "7d2fd468-591c-476a-9bfe-1b16c6de8182",
   "metadata": {},
   "outputs": [],
   "source": [
    "import requests\n",
    "from langchain.tools import StructuredTool\n",
    "from langchain_community.tools.tavily_search import TavilySearchResults\n",
    "from pydantic import BaseModel, Field\n",
    "\n",
    "def convert_currency(amount: float, from_currency: str, to_currency: str) -> float:\n",
    "    \"\"\"\n",
    "    This function is used to transfer currency amount from one currency to another\n",
    "    \"\"\" \n",
    "    url = f\"https://api.exchangerate-api.com/v4/latest/{from_currency}\"\n",
    "    response = requests.get(url)\n",
    "    data = response.json()\n",
    "    rate = data['rates'][to_currency]\n",
    "    converted_amount = amount * rate\n",
    "    return round(converted_amount, 2)\n",
    "\n",
    "class CurrencyConversionInput(BaseModel):\n",
    "    amount: float = Field(..., description=\"The amount of money to convert\")\n",
    "    from_currency: str = Field(..., description=\"The currency to convert from (e.g., USD)\")\n",
    "    to_currency: str = Field(..., description=\"The currency to convert to (e.g., EUR)\")\n",
    "\n",
    "currency_conversion_tool = StructuredTool.from_function(\n",
    "    name=\"currency_converter\",\n",
    "    description=\"Convert an amount from one currency to another\",\n",
    "    func=convert_currency,\n",
    "    args_schema=CurrencyConversionInput\n",
    ")"
   ]
  },
  {
   "cell_type": "code",
   "execution_count": 137,
   "id": "c81b3098-1ad7-4fb3-9d3d-d1d81da227d1",
   "metadata": {},
   "outputs": [
    {
     "data": {
      "text/plain": [
       "89.7"
      ]
     },
     "execution_count": 137,
     "metadata": {},
     "output_type": "execute_result"
    }
   ],
   "source": [
    "convert_currency(100, \"USD\", \"EUR\")"
   ]
  },
  {
   "cell_type": "markdown",
   "id": "be01fa0d-c632-4c70-aa0d-245a729ee5d5",
   "metadata": {},
   "source": [
    "### Get Weather"
   ]
  },
  {
   "cell_type": "code",
   "execution_count": 193,
   "id": "2fc50897-ab09-4321-8ce6-a9b3d46ae069",
   "metadata": {},
   "outputs": [],
   "source": [
    "from datetime import datetime, timedelta\n",
    "import requests\n",
    "def get_weather(location: str, days_ahead: int = 0) -> str:\n",
    "    \"\"\"\n",
    "    This function uses the OpenWeatherMap API to get the current weather for a given location.\n",
    "    \"\"\" \n",
    "\n",
    "    api_key = os.environ.get(\"OPENWEATHERMAP_API_KEY\")\n",
    "    if not api_key:\n",
    "        raise Exception(\"OPENWEATHERMAP_API_KEY environment variable not set.\")\n",
    "\n",
    "    if days_ahead > 0:\n",
    "        target_date = (datetime.now() + timedelta(days=days_ahead)).strftime('%Y-%m-%d')\n",
    "    else:\n",
    "        target_date = None\n",
    "\n",
    "    base_url = \"http://api.openweathermap.org/data/2.5/weather\"  \n",
    "\n",
    "    params = {\n",
    "        \"q\": location,\n",
    "        \"appid\": api_key,\n",
    "        \"units\": \"metric\"\n",
    "    }\n",
    "\n",
    "    response = requests.get(base_url, params=params)\n",
    "\n",
    "    if response.status_code == 200:\n",
    "        data = response.json()\n",
    "=        if target_date:\n",
    "            return f\"The weather in {data['name']}, {data['sys']['country']} on {target_date} is currently {data['weather'][0]['description']} with a temperature of {data['main']['temp']}°C. The humidity is {data['main']['humidity']}% and the wind speed is {data['wind']['speed']} m/s.\"\n",
    "        else:\n",
    "            return f\"The weather in {data['name']}, {data['sys']['country']} is currently {data['weather'][0]['description']} with a temperature of {data['main']['temp']}°C. The humidity is {data['main']['humidity']}% and the wind speed is {data['wind']['speed']} m/s.\"\n",
    "    else:\n",
    "        raise Exception(f\"Error fetching weather data: {response.status_code}\")\n",
    "\n",
    "class WeatherInput(BaseModel):\n",
    "    location: str = Field(..., description=\"The city and country to get weather for\")\n",
    "    days_ahead: int = Field(0, description=\"Number of days ahead for forecast (0 for current weather)\")\n",
    "\n",
    "weather_tool = StructuredTool.from_function(\n",
    "    name=\"weather_forecast\",\n",
    "    description=\"Get the weather forecast for a specific location and date\",\n",
    "    func=get_weather,\n",
    "    args_schema=WeatherInput\n",
    ")"
   ]
  },
  {
   "cell_type": "code",
   "execution_count": 179,
   "id": "2baae252-7cb6-469c-9160-b1a03cd66307",
   "metadata": {},
   "outputs": [
    {
     "data": {
      "text/plain": [
       "'The weather in Dubai, AE on 2024-09-23 is currently clear sky with a temperature of 33.77°C. The humidity is 59% and the wind speed is 3.6 m/s.'"
      ]
     },
     "execution_count": 179,
     "metadata": {},
     "output_type": "execute_result"
    }
   ],
   "source": [
    "get_weather('dubai',3)"
   ]
  },
  {
   "cell_type": "markdown",
   "id": "9a4cc584-a9e3-4eec-8eb0-6ad3c74d97f7",
   "metadata": {},
   "source": [
    "### Language Translation"
   ]
  },
  {
   "cell_type": "code",
   "execution_count": 197,
   "id": "e9ff56ae-1ace-407a-8f7d-0b89d2471b2f",
   "metadata": {},
   "outputs": [],
   "source": [
    "from transformers import pipeline\n",
    "\n",
    "def translate_text(text, target_language):\n",
    "    \"\"\"\n",
    "    This function is used to provide translation from any other language to english.\n",
    "    \"\"\"\n",
    "    try:\n",
    "        translator = pipeline(\"translation\", model=\"facebook/m2m100_418M\")\n",
    "        translation = translator(text, src_lang=\"en\", tgt_lang=target_language)[0]['translation_text']\n",
    "        return translation\n",
    "    except Exception as e:\n",
    "        print(f\"An error occurred during translation: {e}\")\n",
    "        return \"Translation failed.\"\n",
    "\n",
    "class TranslationInput(BaseModel):\n",
    "    text: str = Field(..., description=\"The text to translate\")\n",
    "    target_language: str = Field(..., description=\"The target language code (e.g., 'fr' for French, 'es' for Spanish)\")\n",
    "\n",
    "translation_tool = StructuredTool.from_function(\n",
    "    name=\"language_translator\",\n",
    "    description=\"Translate text from English to a specified target language\",\n",
    "    func=translate_text,\n",
    "    args_schema=TranslationInput\n",
    ")"
   ]
  },
  {
   "cell_type": "code",
   "execution_count": 184,
   "id": "79ce89d5-c6cc-4b7a-9d87-9c47493f61ae",
   "metadata": {},
   "outputs": [
    {
     "data": {
      "text/plain": [
       "'Bonjour comment vous êtes'"
      ]
     },
     "execution_count": 184,
     "metadata": {},
     "output_type": "execute_result"
    }
   ],
   "source": [
    "translate_text(\"hi how are you\", \"fr\")"
   ]
  },
  {
   "cell_type": "markdown",
   "id": "74bca6d6-e123-4c4a-b16f-dccc2c4df8bc",
   "metadata": {},
   "source": [
    "### Tavily Search"
   ]
  },
  {
   "cell_type": "code",
   "execution_count": 201,
   "id": "577f6d2e-a5f6-43e6-9feb-6f6b740890eb",
   "metadata": {},
   "outputs": [],
   "source": [
    "from langchain_community.tools.tavily_search import TavilySearchResults\n",
    "\n",
    "# Create the TavilySearch tool\n",
    "tavily_search = TavilySearchResults(max_results=2)\n",
    "\n",
    "# Combine the tools into a list\n",
    "tools = [tavily_search, currency_conversion_tool, weather_tool, translation_tool]"
   ]
  },
  {
   "cell_type": "markdown",
   "id": "9e8837c5-41aa-4d01-88bb-864e3613c4b5",
   "metadata": {},
   "source": [
    "### Define our Execution Agent"
   ]
  },
  {
   "cell_type": "code",
   "execution_count": 204,
   "id": "0372d11d-05fb-444a-b63f-e77f6ba5bda3",
   "metadata": {},
   "outputs": [
    {
     "name": "stderr",
     "output_type": "stream",
     "text": [
      "/opt/anaconda3/lib/python3.11/site-packages/langsmith/client.py:322: LangSmithMissingAPIKeyWarning: API key must be provided when using hosted LangSmith API\n",
      "  warnings.warn(\n"
     ]
    },
    {
     "name": "stdout",
     "output_type": "stream",
     "text": [
      "================================\u001b[1m System Message \u001b[0m================================\n",
      "\n",
      "You are a helpful assistant.\n",
      "\n",
      "=============================\u001b[1m Messages Placeholder \u001b[0m=============================\n",
      "\n",
      "\u001b[33;1m\u001b[1;3m{{messages}}\u001b[0m\n"
     ]
    }
   ],
   "source": [
    "from langchain import hub\n",
    "from langchain_openai import ChatOpenAI\n",
    "\n",
    "from langgraph.prebuilt import create_react_agent\n",
    "\n",
    "prompt = hub.pull(\"wfh/react-agent-executor\")\n",
    "prompt.pretty_print()\n",
    "\n",
    "from langchain.prompts import ChatPromptTemplate, MessagesPlaceholder\n",
    "from langchain.agents import AgentExecutor, create_openai_functions_agent\n",
    "from langchain_core.messages import SystemMessage, HumanMessage\n",
    "\n",
    "# Define a custom prompt template\n",
    "custom_prompt = ChatPromptTemplate.from_messages([\n",
    "    SystemMessage(content=\"You are a helpful AI assistant for travel planning.\"),\n",
    "    MessagesPlaceholder(variable_name=\"messages\"),\n",
    "    HumanMessage(content=\"{input}\"),\n",
    "    MessagesPlaceholder(variable_name=\"agent_scratchpad\"),\n",
    "])\n",
    "\n",
    "# Create the agent\n",
    "agent = create_openai_functions_agent(llm, tools, custom_prompt)\n",
    "agent_executor = AgentExecutor(agent=agent, tools=tools, verbose=True)"
   ]
  },
  {
   "cell_type": "markdown",
   "id": "012ef62d-0196-42aa-b0ee-425f0f35c69f",
   "metadata": {},
   "source": [
    "### Define the State"
   ]
  },
  {
   "cell_type": "code",
   "execution_count": 207,
   "id": "7f09e9b1-b147-482a-89aa-cce4ff9e79a4",
   "metadata": {},
   "outputs": [],
   "source": [
    "import operator\n",
    "from typing import Annotated, List, Tuple, TypedDict\n",
    "\n",
    "\n",
    "class PlanExecute(TypedDict):\n",
    "    input: str\n",
    "    plan: List[str]\n",
    "    past_steps: Annotated[List[Tuple], operator.add]\n",
    "    response: str"
   ]
  },
  {
   "cell_type": "markdown",
   "id": "aa88590d-490a-45f2-8746-9e6a29dc5dd4",
   "metadata": {},
   "source": [
    "### Planning Step"
   ]
  },
  {
   "cell_type": "code",
   "execution_count": 210,
   "id": "ad194e24-116a-4143-9ebc-00bced884f44",
   "metadata": {},
   "outputs": [],
   "source": [
    "from pydantic import BaseModel, Field\n",
    "\n",
    "\n",
    "class Plan(BaseModel):\n",
    "    \"\"\"Plan to follow in future\"\"\"\n",
    "\n",
    "    steps: List[str] = Field(\n",
    "        description=\"different steps to follow, should be in sorted order\"\n",
    "    )"
   ]
  },
  {
   "cell_type": "code",
   "execution_count": 212,
   "id": "4c8d3a09-80bf-492f-9d22-89efb80330f8",
   "metadata": {},
   "outputs": [],
   "source": [
    "from langchain_core.prompts import ChatPromptTemplate\n",
    "\n",
    "planner_prompt = ChatPromptTemplate.from_messages(\n",
    "    [\n",
    "        (\n",
    "            \"system\",\n",
    "            \"\"\"For the given objective, come up with a simple step by step plan. \\\n",
    "This plan should involve individual tasks, that if executed correctly will yield the correct answer. Do not add any superfluous steps. \\\n",
    "The result of the final step should be the final answer. Make sure that each step has all the information needed - do not skip steps.\"\"\",\n",
    "        ),\n",
    "        (\"placeholder\", \"{messages}\"),\n",
    "    ]\n",
    ")\n",
    "planner = planner_prompt | ChatOpenAI(\n",
    "    model=\"gpt-4o\", temperature=0\n",
    ").with_structured_output(Plan)"
   ]
  },
  {
   "cell_type": "code",
   "execution_count": 214,
   "id": "7d1f9963-f22f-495c-a5df-87caddd2f882",
   "metadata": {},
   "outputs": [
    {
     "data": {
      "text/plain": [
       "Plan(steps=['Check the weather forecast for Dubai for the next month.', 'Find the current exchange rate from USD to AED (United Arab Emirates Dirham).', 'Translate common English phrases to Arabic.'])"
      ]
     },
     "execution_count": 214,
     "metadata": {},
     "output_type": "execute_result"
    }
   ],
   "source": [
    "planner.invoke(\n",
    "    {\n",
    "        \"messages\": [\n",
    "            (\"user\", \"I am planning to go to dubai next month with a budget of $2000. Can you please help me plan my trip by providing information about the weather, currency converter, and sample language translation?\")\n",
    "        ]\n",
    "    }\n",
    ")"
   ]
  },
  {
   "cell_type": "markdown",
   "id": "677f1767-aed9-44ee-84e9-68bfb3432256",
   "metadata": {},
   "source": [
    "### Re-Plan Step"
   ]
  },
  {
   "cell_type": "code",
   "execution_count": 216,
   "id": "76381f85-7127-4fb2-a026-8c3d859c768a",
   "metadata": {},
   "outputs": [],
   "source": [
    "from typing import Union\n",
    "\n",
    "\n",
    "class Response(BaseModel):\n",
    "    \"\"\"Response to user.\"\"\"\n",
    "\n",
    "    response: str\n",
    "\n",
    "\n",
    "class Act(BaseModel):\n",
    "    \"\"\"Action to perform.\"\"\"\n",
    "\n",
    "    action: Union[Response, Plan] = Field(\n",
    "        description=\"Action to perform. If you want to respond to user, use Response. \"\n",
    "        \"If you need to further use tools to get the answer, use Plan.\"\n",
    "    )\n",
    "\n",
    "\n",
    "replanner_prompt = ChatPromptTemplate.from_template(\n",
    "    \"\"\"\n",
    "    For the given objective, come up with a simple step by step plan. \\\n",
    "    This plan should involve individual tasks, that if executed correctly will yield the correct answer. Do not add any superfluous steps. \\\n",
    "    The result of the final step should be the final answer. Make sure that each step has all the information needed - do not skip steps.\n",
    "    \n",
    "    Your objective was this:\n",
    "    {input}\n",
    "    \n",
    "    Your original plan was this:\n",
    "    {plan}\n",
    "    \n",
    "    You have currently done the follow steps:\n",
    "    {past_steps}\n",
    "    \n",
    "    Update your plan accordingly. If no more steps are needed and you can return to the user, then respond with that. \n",
    "    Otherwise, fill out the plan. Only add steps to the plan that still NEED to be done. Do not return previously done steps as part of the plan.\n",
    "    \"\"\"\n",
    ")\n",
    "\n",
    "\n",
    "replanner = replanner_prompt | ChatOpenAI(\n",
    "    model=\"gpt-4o\", temperature=0\n",
    ").with_structured_output(Act)"
   ]
  },
  {
   "cell_type": "markdown",
   "id": "322387cd-14d3-48d1-8715-a6ebee0d747d",
   "metadata": {},
   "source": [
    "### Create the Graph"
   ]
  },
  {
   "cell_type": "code",
   "execution_count": 282,
   "id": "599411de-de51-45ee-8fd4-62cd6b20d418",
   "metadata": {},
   "outputs": [
    {
     "name": "stderr",
     "output_type": "stream",
     "text": [
      "/var/folders/gq/6gkq7lc97m7gd82nff7t_xn80000gp/T/ipykernel_82266/3802728987.py:101: PydanticDeprecatedSince20: Pydantic V1 style `@root_validator` validators are deprecated. You should migrate to Pydantic V2 style `@model_validator` validators, see the migration guide for more details. Deprecated in Pydantic V2.0 to be removed in V3.0. See Pydantic V2 Migration Guide at https://errors.pydantic.dev/2.9/migration/\n",
      "  @root_validator(pre=True)\n"
     ]
    }
   ],
   "source": [
    "import re\n",
    "from typing import Dict, Any, List, Literal, Union\n",
    "from pydantic import BaseModel, Field\n",
    "\n",
    "def format_final_response(state: Dict[str, Any]) -> str:\n",
    "    weather_info = \"\"\n",
    "    currency_info = \"\"\n",
    "    greeting = \"\"\n",
    "    directions = []\n",
    "    budget = 2000  \n",
    "\n",
    "    for step in state.get(\"past_steps\", []):\n",
    "        if \"weather forecast\" in step[0].lower():\n",
    "            weather_info = step[1]\n",
    "        elif \"exchange rate\" in step[0].lower():\n",
    "            currency_info = step[1]\n",
    "        elif \"common greetings\" in step[0].lower():\n",
    "            greeting = step[1].split('\"')[1] if '\"' in step[1] else \"\"\n",
    "        elif \"asking directions\" in step[0].lower():\n",
    "            directions = [line.strip() for line in step[1].split('\\n') if line.startswith('-')]\n",
    "\n",
    "   \n",
    "    temp_match = re.search(r'(\\d+)°C', weather_info)\n",
    "    temperature = temp_match.group(1) if temp_match else \"N/A\"\n",
    "\n",
    "    formatted_response = f\"\"\"\n",
    "For your 5-day trip to Dubai next month, here's what you should prepare:\n",
    "\n",
    "1. **Weather**: {weather_info}\n",
    "   It's crucial to stay hydrated and wear light, breathable clothing. Don't forget sunscreen and a hat, as the sun can be intense.\n",
    "\n",
    "2. **Language**: While many people in Dubai speak English, knowing some basic Arabic phrases can enhance your experience. Here are some useful translations:\n",
    "   Greeting: {greeting}\n",
    "   \n",
    "   Directions:\n",
    "   {chr(10).join(directions)}\n",
    "\n",
    "3. **Budget Considerations**: With a budget of ${budget}, plan for accommodations, meals, transportation, and activities. {currency_info}\n",
    "   Dubai can be quite luxurious, so consider exploring a mix of high-end and budget-friendly options.\n",
    "\n",
    "If you need help with specific activity recommendations that fit your budget, feel free to ask!\n",
    "\"\"\"\n",
    "    return formatted_response.strip()\n",
    "\n",
    "\n",
    "async def execute_step(state: PlanExecute):\n",
    "    plan = state.get(\"plan\", [])\n",
    "    if not plan:\n",
    "        # All tasks completed, format the final response\n",
    "        final_response = format_final_response(state)\n",
    "        return {\n",
    "            \"response\": final_response\n",
    "        }\n",
    "    \n",
    "    task = plan[0]\n",
    "    task_formatted = f\"For the following plan: {', '.join(plan)}\\n\\nYou are tasked with executing step: {task}\"\n",
    "\n",
    "    agent_response = await agent_executor.ainvoke(\n",
    "        {\n",
    "            \"input\": task_formatted,\n",
    "            \"messages\": [(\"user\", task_formatted)],\n",
    "            \"agent_scratchpad\": [],\n",
    "        }\n",
    "    )\n",
    "    \n",
    "    return {\n",
    "        \"past_steps\": [(task, agent_response[\"output\"])]\n",
    "    }\n",
    "\n",
    "\n",
    "async def replan_step(state: PlanExecute) -> Dict[str, Any]:\n",
    "    if not state.get(\"plan\"):\n",
    "        return {\"response\": \"All tasks completed. Your trip planning is finished.\"}\n",
    "\n",
    "    output = await replanner.ainvoke(state)\n",
    "    \n",
    "    if isinstance(output, Act):\n",
    "        if output.Steps:\n",
    "            return {\"plan\": output.Steps}\n",
    "        elif isinstance(output.action, dict) and 'Steps' in output.action:\n",
    "            return {\"plan\": output.action['Steps']}\n",
    "    elif isinstance(output, dict) and 'Steps' in output:\n",
    "        return {\"plan\": output['Steps']}\n",
    "    \n",
    "    # If we can't parse the output or if the plan is empty, assume all tasks are completed\n",
    "    return {\"response\": \"All tasks completed. Your trip planning is finished.\"}\n",
    "\n",
    "class Plan(BaseModel):\n",
    "    steps: List[str] = Field(..., description=\"Steps of the plan\")\n",
    "\n",
    "class Response(BaseModel):\n",
    "    response: str = Field(..., description=\"Response to the user\")\n",
    "\n",
    "from pydantic import BaseModel, Field, root_validator\n",
    "from typing import Union, List, Dict, Any, Optional\n",
    "\n",
    "class Act(BaseModel):\n",
    "    action: Optional[Union[Dict[str, List[str]], List[str]]] = Field(None, description=\"Action to perform\")\n",
    "    Steps: Optional[List[str]] = Field(None, description=\"Steps of the plan\")\n",
    "\n",
    "    @root_validator(pre=True)\n",
    "    def check_structure(cls, values):\n",
    "        if 'Steps' in values and 'action' not in values:\n",
    "            values['action'] = {'Steps': values['Steps']}\n",
    "        return values\n",
    "\n",
    "    class Config:\n",
    "        extra = 'allow'\n",
    "\n",
    "def should_end(state: PlanExecute) -> Literal[\"agent\", \"__end__\"]:\n",
    "    if \"response\" in state and state[\"response\"]:\n",
    "        return \"__end__\"\n",
    "    else:\n",
    "        return \"agent\"\n",
    "\n",
    "\n",
    "\n",
    "from langchain.prompts import ChatPromptTemplate\n",
    "from langchain.output_parsers import PydanticOutputParser\n",
    "\n",
    "replanner_prompt = ChatPromptTemplate.from_template(\n",
    "    \"\"\"\n",
    "    For the given objective, come up with a simple step by step plan. \\\n",
    "    This plan should involve individual tasks, that if executed correctly will yield the correct answer. Do not add any superfluous steps. \\\n",
    "    The result of the final step should be the final answer. Make sure that each step has all the information needed - do not skip steps.\n",
    "    \n",
    "    Your objective was this:\n",
    "    {input}\n",
    "    \n",
    "    Your original plan was this:\n",
    "    {plan}\n",
    "    \n",
    "    You have currently done the follow steps:\n",
    "    {past_steps}\n",
    "    \n",
    "    Update your plan accordingly. If no more steps are needed and you can return to the user, then respond with that. \n",
    "    Otherwise, fill out the plan. Only add steps to the plan that still NEED to be done. Do not return previously done steps as part of the plan.\n",
    "    \n",
    "    Your response should be in the following format:\n",
    "    {{\"Steps\": [\"Step 1\", \"Step 2\", \"Step 3\"]}}\n",
    "    \"\"\"\n",
    ")\n",
    "\n",
    "output_parser = PydanticOutputParser(pydantic_object=Act)\n",
    "\n",
    "replanner = replanner_prompt | ChatOpenAI(model=\"gpt-4o\", temperature=0) | output_parser"
   ]
  },
  {
   "cell_type": "code",
   "execution_count": 284,
   "id": "395ef840-b3b0-46ed-b153-65bdbe1e05ea",
   "metadata": {},
   "outputs": [],
   "source": [
    "from langgraph.graph import StateGraph, START\n",
    "\n",
    "workflow = StateGraph(PlanExecute)\n",
    "\n",
    "# Add the plan node\n",
    "workflow.add_node(\"planner\", plan_step)\n",
    "\n",
    "# Add the execution step\n",
    "workflow.add_node(\"agent\", execute_step)\n",
    "\n",
    "# Add a replan node\n",
    "workflow.add_node(\"replan\", replan_step)\n",
    "\n",
    "workflow.add_edge(START, \"planner\")\n",
    "\n",
    "# From plan we go to agent\n",
    "workflow.add_edge(\"planner\", \"agent\")\n",
    "\n",
    "# From agent, we replan\n",
    "workflow.add_edge(\"agent\", \"replan\")\n",
    "\n",
    "workflow.add_conditional_edges(\n",
    "    \"replan\",\n",
    "    should_end,\n",
    ")\n",
    "\n",
    "app = workflow.compile()"
   ]
  },
  {
   "cell_type": "code",
   "execution_count": 286,
   "id": "900f2c56-c0aa-4eb2-9180-b2827f15f259",
   "metadata": {},
   "outputs": [
    {
     "data": {
      "image/jpeg": "[encoded data removed]",
      "text/plain": [
       "<IPython.core.display.Image object>"
      ]
     },
     "metadata": {},
     "output_type": "display_data"
    }
   ],
   "source": [
    "from IPython.display import Image, display\n",
    "\n",
    "display(Image(app.get_graph(xray=True).draw_mermaid_png()))"
   ]
  },
  {
   "cell_type": "code",
   "execution_count": 288,
   "id": "e6002033-6263-4a6d-806f-674214dd3358",
   "metadata": {},
   "outputs": [
    {
     "name": "stderr",
     "output_type": "stream",
     "text": [
      "Error in StdOutCallbackHandler.on_chain_start callback: AttributeError(\"'NoneType' object has no attribute 'get'\")\n"
     ]
    },
    {
     "name": "stdout",
     "output_type": "stream",
     "text": [
      "{'plan': ['Check the weather forecast for Dubai for the next month.', 'Find the current exchange rate from USD to AED (United Arab Emirates Dirham).', 'Translate common greetings from English to Arabic.', 'Translate common phrases for asking directions from English to Arabic.']}\n",
      "\u001b[32;1m\u001b[1;3m\n",
      "Invoking: `weather_forecast` with `{'location': 'Dubai, United Arab Emirates', 'days_ahead': 30}`\n",
      "\n",
      "\n",
      "\u001b[0m\u001b[38;5;200m\u001b[1;3mThe weather in Dubai, AE on 2024-10-20 is currently clear sky with a temperature of 33°C. The humidity is 66% and the wind speed is 2.57 m/s.\u001b[0m\u001b[32;1m\u001b[1;3mThe weather forecast for Dubai, United Arab Emirates, for the next month, specifically on 2024-10-20, indicates clear skies with a temperature of 33°C. The humidity will be around 66% and the wind speed will be 2.57 m/s.\u001b[0m\n",
      "\n",
      "\u001b[1m> Finished chain.\u001b[0m\n",
      "{'past_steps': [('Check the weather forecast for Dubai for the next month.', 'The weather forecast for Dubai, United Arab Emirates, for the next month, specifically on 2024-10-20, indicates clear skies with a temperature of 33°C. The humidity will be around 66% and the wind speed will be 2.57 m/s.')]}\n"
     ]
    },
    {
     "name": "stderr",
     "output_type": "stream",
     "text": [
      "Error in StdOutCallbackHandler.on_chain_start callback: AttributeError(\"'NoneType' object has no attribute 'get'\")\n"
     ]
    },
    {
     "name": "stdout",
     "output_type": "stream",
     "text": [
      "{'plan': ['Find the current exchange rate from USD to AED (United Arab Emirates Dirham).', 'Translate common greetings from English to Arabic.', 'Translate common phrases for asking directions from English to Arabic.']}\n",
      "\u001b[32;1m\u001b[1;3m\n",
      "Invoking: `currency_converter` with `{'amount': 1, 'from_currency': 'USD', 'to_currency': 'AED'}`\n",
      "\n",
      "\n",
      "\u001b[0m\u001b[33;1m\u001b[1;3m3.67\u001b[0m\u001b[32;1m\u001b[1;3mThe current exchange rate from USD to AED (United Arab Emirates Dirham) is 1 USD = 3.67 AED.\u001b[0m\n",
      "\n",
      "\u001b[1m> Finished chain.\u001b[0m\n",
      "{'past_steps': [('Find the current exchange rate from USD to AED (United Arab Emirates Dirham).', 'The current exchange rate from USD to AED (United Arab Emirates Dirham) is 1 USD = 3.67 AED.')]}\n"
     ]
    },
    {
     "name": "stderr",
     "output_type": "stream",
     "text": [
      "Error in StdOutCallbackHandler.on_chain_start callback: AttributeError(\"'NoneType' object has no attribute 'get'\")\n"
     ]
    },
    {
     "name": "stdout",
     "output_type": "stream",
     "text": [
      "{'plan': ['Translate common greetings from English to Arabic.', 'Translate common phrases for asking directions from English to Arabic.']}\n",
      "\u001b[32;1m\u001b[1;3m\n",
      "Invoking: `language_translator` with `{'text': 'Hello', 'target_language': 'ar'}`\n",
      "\n",
      "\n",
      "\u001b[0m\u001b[31;1m\u001b[1;3mمرحبا\u001b[0m\u001b[32;1m\u001b[1;3m\n",
      "Invoking: `language_translator` with `{'text': 'Good morning', 'target_language': 'ar'}`\n",
      "\n",
      "\n",
      "\u001b[0m\u001b[31;1m\u001b[1;3mصباح الخير\u001b[0m\u001b[32;1m\u001b[1;3m\n",
      "Invoking: `language_translator` with `{'text': 'Good evening', 'target_language': 'ar'}`\n",
      "\n",
      "\n",
      "\u001b[0m\u001b[31;1m\u001b[1;3mصباح الخير\u001b[0m\u001b[32;1m\u001b[1;3m\n",
      "Invoking: `language_translator` with `{'text': 'Good evening', 'target_language': 'ar'}`\n",
      "\n",
      "\n",
      "\u001b[0m\u001b[31;1m\u001b[1;3mصباح الخير\u001b[0m\u001b[32;1m\u001b[1;3m\n",
      "Invoking: `language_translator` with `{'text': 'Good evening', 'target_language': 'ar'}`\n",
      "\n",
      "\n",
      "\u001b[0m\u001b[31;1m\u001b[1;3mصباح الخير\u001b[0m\u001b[32;1m\u001b[1;3m\n",
      "Invoking: `language_translator` with `{'text': 'Good evening', 'target_language': 'ar'}`\n",
      "\n",
      "\n",
      "\u001b[0m\u001b[31;1m\u001b[1;3mصباح الخير\u001b[0m\u001b[32;1m\u001b[1;3m\n",
      "Invoking: `language_translator` with `{'text': 'Good evening', 'target_language': 'ar'}`\n",
      "\n",
      "\n",
      "\u001b[0m\u001b[31;1m\u001b[1;3mصباح الخير\u001b[0m\u001b[32;1m\u001b[1;3m\n",
      "Invoking: `language_translator` with `{'text': 'Good evening', 'target_language': 'ar'}`\n",
      "\n",
      "\n",
      "\u001b[0m\u001b[31;1m\u001b[1;3mصباح الخير\u001b[0m\u001b[32;1m\u001b[1;3m\n",
      "Invoking: `language_translator` with `{'text': 'Good bye', 'target_language': 'ar'}`\n",
      "\n",
      "\n",
      "\u001b[0m\u001b[31;1m\u001b[1;3mوداعا\u001b[0m\u001b[32;1m\u001b[1;3mHere are the translations for common greetings from English to Arabic:\n",
      "\n",
      "- Hello: مرحبا\n",
      "- Good morning: صباح الخير\n",
      "- Good evening: مساء الخير (There was a repetition in the translation process, but this is the correct translation for \"Good evening.\")\n",
      "- Goodbye: وداعا\u001b[0m\n",
      "\n",
      "\u001b[1m> Finished chain.\u001b[0m\n",
      "{'past_steps': [('Translate common greetings from English to Arabic.', 'Here are the translations for common greetings from English to Arabic:\\n\\n- Hello: مرحبا\\n- Good morning: صباح الخير\\n- Good evening: مساء الخير (There was a repetition in the translation process, but this is the correct translation for \"Good evening.\")\\n- Goodbye: وداعا')]}\n"
     ]
    },
    {
     "name": "stderr",
     "output_type": "stream",
     "text": [
      "Error in StdOutCallbackHandler.on_chain_start callback: AttributeError(\"'NoneType' object has no attribute 'get'\")\n"
     ]
    },
    {
     "name": "stdout",
     "output_type": "stream",
     "text": [
      "{'plan': ['Translate common phrases for asking directions from English to Arabic.']}\n",
      "\u001b[32;1m\u001b[1;3m\n",
      "Invoking: `language_translator` with `{'text': 'How do I get to the nearest subway station?', 'target_language': 'ar'}`\n",
      "\n",
      "\n",
      "\u001b[0m\u001b[31;1m\u001b[1;3mكيف يمكنني الوصول إلى أقرب محطة مترو الأنفاق؟\u001b[0m\u001b[32;1m\u001b[1;3m\n",
      "Invoking: `language_translator` with `{'text': 'Where is the nearest bathroom?', 'target_language': 'ar'}`\n",
      "\n",
      "\n",
      "\u001b[0m\u001b[31;1m\u001b[1;3mأين أقرب حمام؟\u001b[0m\u001b[32;1m\u001b[1;3m\n",
      "Invoking: `language_translator` with `{'text': 'Can you show me the way to the airport?', 'target_language': 'ar'}`\n",
      "\n",
      "\n",
      "\u001b[0m\u001b[31;1m\u001b[1;3mهل يمكنك أن تظهر لي الطريق إلى المطار؟\u001b[0m\u001b[32;1m\u001b[1;3m\n",
      "Invoking: `language_translator` with `{'text': 'Is there a restaurant nearby?', 'target_language': 'ar'}`\n",
      "\n",
      "\n",
      "\u001b[0m\u001b[31;1m\u001b[1;3mهل يوجد مطعم قريب؟\u001b[0m\u001b[32;1m\u001b[1;3mHere are the translations of the common phrases for asking directions from English to Arabic:\n",
      "\n",
      "- \"How do I get to the nearest subway station?\" translates to \"كيف يمكنني الوصول إلى أقرب محطة مترو الأنفاق؟\"\n",
      "- \"Where is the nearest bathroom?\" translates to \"أين أقرب حمام؟\"\n",
      "- \"Can you show me the way to the airport?\" translates to \"هل يمكنك أن تظهر لي الطريق إلى المطار؟\"\n",
      "- \"Is there a restaurant nearby?\" translates to \"هل يوجد مطعم قريب؟\"\u001b[0m\n",
      "\n",
      "\u001b[1m> Finished chain.\u001b[0m\n",
      "{'past_steps': [('Translate common phrases for asking directions from English to Arabic.', 'Here are the translations of the common phrases for asking directions from English to Arabic:\\n\\n- \"How do I get to the nearest subway station?\" translates to \"كيف يمكنني الوصول إلى أقرب محطة مترو الأنفاق؟\"\\n- \"Where is the nearest bathroom?\" translates to \"أين أقرب حمام؟\"\\n- \"Can you show me the way to the airport?\" translates to \"هل يمكنك أن تظهر لي الطريق إلى المطار؟\"\\n- \"Is there a restaurant nearby?\" translates to \"هل يوجد مطعم قريب؟\"')]}\n",
      "{'plan': []}\n",
      "{'response': 'For your 5-day trip to Dubai next month, here\\'s what you should prepare:\\n\\n1. **Weather**: The weather forecast for Dubai, United Arab Emirates, for the next month, specifically on 2024-10-20, indicates clear skies with a temperature of 33°C. The humidity will be around 66% and the wind speed will be 2.57 m/s.\\n   It\\'s crucial to stay hydrated and wear light, breathable clothing. Don\\'t forget sunscreen and a hat, as the sun can be intense.\\n\\n2. **Language**: While many people in Dubai speak English, knowing some basic Arabic phrases can enhance your experience. Here are some useful translations:\\n   Greeting: Good evening.\\n   \\n   Directions:\\n   - \"How do I get to the nearest subway station?\" translates to \"كيف يمكنني الوصول إلى أقرب محطة مترو الأنفاق؟\"\\n- \"Where is the nearest bathroom?\" translates to \"أين أقرب حمام؟\"\\n- \"Can you show me the way to the airport?\" translates to \"هل يمكنك أن تظهر لي الطريق إلى المطار؟\"\\n- \"Is there a restaurant nearby?\" translates to \"هل يوجد مطعم قريب؟\"\\n\\n3. **Budget Considerations**: With a budget of $2000, plan for accommodations, meals, transportation, and activities. The current exchange rate from USD to AED (United Arab Emirates Dirham) is 1 USD = 3.67 AED.\\n   Dubai can be quite luxurious, so consider exploring a mix of high-end and budget-friendly options.\\n\\nIf you need help with specific activity recommendations that fit your budget, feel free to ask!'}\n",
      "{'response': 'All tasks completed. Your trip planning is finished.'}\n"
     ]
    }
   ],
   "source": [
    "config = {\"recursion_limit\": 54}\n",
    "inputs = {\"input\": \"I am planning to go to dubai next month with a budget of $2000. Can you please help me plan my trip by providing information about the weather, currency converter, and sample language translation for greetings and asking directions?\"}\n",
    "async for event in app.astream(inputs, config=config):\n",
    "    for k, v in event.items():\n",
    "        if k != \"__end__\":\n",
    "            print(v)"
   ]
  },
  {
   "cell_type": "code",
   "execution_count": null,
   "id": "e3ca727f-651a-4ea1-8126-a2256d055c01",
   "metadata": {},
   "outputs": [],
   "source": []
  },
  {
   "cell_type": "code",
   "execution_count": null,
   "id": "d069d2c1-38fc-471c-ba78-7accd04c7af5",
   "metadata": {},
   "outputs": [],
   "source": []
  },
  {
   "cell_type": "code",
   "execution_count": null,
   "id": "2a607fa9-169a-45da-a865-b01b482fcee1",
   "metadata": {},
   "outputs": [],
   "source": []
  },
  {
   "cell_type": "code",
   "execution_count": null,
   "id": "a98ff7b1-6f30-4166-992f-2d4f8548ccd7",
   "metadata": {},
   "outputs": [],
   "source": []
  },
  {
   "cell_type": "code",
   "execution_count": null,
   "id": "8ad187a2-8617-453b-8b6b-d17e2afc1fba",
   "metadata": {},
   "outputs": [],
   "source": []
  },
  {
   "cell_type": "code",
   "execution_count": null,
   "id": "8aaf463f-7fe1-4d84-bc63-8849b9815355",
   "metadata": {},
   "outputs": [],
   "source": []
  },
  {
   "cell_type": "code",
   "execution_count": null,
   "id": "7a335c26-5301-4642-9eef-d5acd1103a0f",
   "metadata": {},
   "outputs": [],
   "source": []
  },
  {
   "cell_type": "code",
   "execution_count": null,
   "id": "aa01fad7-ee53-44fd-a6a6-c1a537200fa8",
   "metadata": {},
   "outputs": [],
   "source": []
  },
  {
   "cell_type": "code",
   "execution_count": null,
   "id": "0a4b7853-9a9e-4d09-ba3a-d9efe05e3035",
   "metadata": {},
   "outputs": [],
   "source": []
  },
  {
   "cell_type": "code",
   "execution_count": null,
   "id": "8bc37f0c-c880-4ff3-8fb4-cbe44c105437",
   "metadata": {},
   "outputs": [],
   "source": []
  },
  {
   "cell_type": "code",
   "execution_count": null,
   "id": "d0765e25-9537-4e0e-94e1-7b3b57eb122c",
   "metadata": {},
   "outputs": [],
   "source": []
  },
  {
   "cell_type": "code",
   "execution_count": null,
   "id": "d3043034-9fd5-4155-b705-76e3245663a1",
   "metadata": {},
   "outputs": [],
   "source": []
  },
  {
   "cell_type": "code",
   "execution_count": null,
   "id": "2f42ced9-616c-434e-8194-16971cd86a20",
   "metadata": {},
   "outputs": [],
   "source": []
  },
  {
   "cell_type": "code",
   "execution_count": null,
   "id": "b5c5ea98-7da7-4698-badc-1a331b584381",
   "metadata": {},
   "outputs": [],
   "source": []
  },
  {
   "cell_type": "code",
   "execution_count": null,
   "id": "a0ac99ea-d4b4-40fb-b839-00f4162aa3cd",
   "metadata": {},
   "outputs": [],
   "source": []
  },
  {
   "cell_type": "code",
   "execution_count": null,
   "id": "965c9b9d-1454-4ff2-b88c-2c6b848c5b45",
   "metadata": {},
   "outputs": [],
   "source": []
  },
  {
   "cell_type": "code",
   "execution_count": null,
   "id": "1105fe1a-f58c-4f50-9ab6-97ccc1b259ce",
   "metadata": {},
   "outputs": [],
   "source": []
  },
  {
   "cell_type": "code",
   "execution_count": null,
   "id": "ac9d66a4-687c-41d2-ad38-6156de07eaa9",
   "metadata": {},
   "outputs": [],
   "source": []
  },
  {
   "cell_type": "code",
   "execution_count": null,
   "id": "ece971bf-c989-4970-bdce-578740eb5959",
   "metadata": {},
   "outputs": [],
   "source": []
  },
  {
   "cell_type": "code",
   "execution_count": null,
   "id": "71dbd7b3-fecd-466b-92bf-40703a70ab25",
   "metadata": {},
   "outputs": [],
   "source": []
  },
  {
   "cell_type": "code",
   "execution_count": null,
   "id": "d42203e3-4e0c-4978-9f49-19d3065f85ce",
   "metadata": {},
   "outputs": [],
   "source": []
  },
  {
   "cell_type": "code",
   "execution_count": null,
   "id": "0aef9908-cca4-440b-adf6-be06671097c5",
   "metadata": {},
   "outputs": [],
   "source": []
  },
  {
   "cell_type": "code",
   "execution_count": null,
   "id": "4bba1a7a-a163-40a0-9f26-50103fdbbc5f",
   "metadata": {},
   "outputs": [],
   "source": []
  },
  {
   "cell_type": "code",
   "execution_count": null,
   "id": "16981eef-bb9f-4308-aa78-3440e73afd3b",
   "metadata": {},
   "outputs": [],
   "source": []
  },
  {
   "cell_type": "code",
   "execution_count": null,
   "id": "a6a6807c-b691-45f6-af36-5c171bbc084c",
   "metadata": {},
   "outputs": [],
   "source": []
  },
  {
   "cell_type": "code",
   "execution_count": null,
   "id": "746993a3-7506-4ee6-8d67-31bc82e31510",
   "metadata": {},
   "outputs": [],
   "source": []
  },
  {
   "cell_type": "code",
   "execution_count": null,
   "id": "83e51451-bc8f-4791-b250-0f0f86c6143e",
   "metadata": {},
   "outputs": [],
   "source": []
  },
  {
   "cell_type": "code",
   "execution_count": null,
   "id": "73c1deca-391a-44e8-8723-4ddfe0365fb6",
   "metadata": {},
   "outputs": [],
   "source": []
  },
  {
   "cell_type": "code",
   "execution_count": null,
   "id": "7cff2386-db8a-453a-a3ad-2df03f827fe4",
   "metadata": {},
   "outputs": [],
   "source": []
  },
  {
   "cell_type": "code",
   "execution_count": null,
   "id": "f050c420-2f3c-41ad-beed-f3de9c8f365b",
   "metadata": {},
   "outputs": [],
   "source": []
  },
  {
   "cell_type": "code",
   "execution_count": null,
   "id": "957cdd60-b6e4-49dd-b1cc-1072a5e17f00",
   "metadata": {},
   "outputs": [],
   "source": []
  },
  {
   "cell_type": "code",
   "execution_count": null,
   "id": "771db2f6-8c0b-47ab-816e-c2ba470a04c0",
   "metadata": {},
   "outputs": [],
   "source": []
  },
  {
   "cell_type": "code",
   "execution_count": null,
   "id": "e18b55fa-39a7-4064-9d62-a6efe6c9999d",
   "metadata": {},
   "outputs": [],
   "source": []
  }
 ],
 "metadata": {
  "kernelspec": {
   "display_name": "Python 3 (ipykernel)",
   "language": "python",
   "name": "python3"
  },
  "language_info": {
   "codemirror_mode": {
    "name": "ipython",
    "version": 3
   },
   "file_extension": ".py",
   "mimetype": "text/x-python",
   "name": "python",
   "nbconvert_exporter": "python",
   "pygments_lexer": "ipython3",
   "version": "3.11.7"
  }
 },
 "nbformat": 4,
 "nbformat_minor": 5
}
